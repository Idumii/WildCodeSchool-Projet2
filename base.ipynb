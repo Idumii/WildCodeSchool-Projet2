{
 "cells": [
  {
   "cell_type": "markdown",
   "id": "e41f57fe",
   "metadata": {},
   "source": [
    "Exploration Fichiers CSV\n"
   ]
  },
  {
   "cell_type": "code",
   "execution_count": 22,
   "id": "484ee9b7",
   "metadata": {},
   "outputs": [],
   "source": [
    "import pandas as pd\n",
    "import gdown\n"
   ]
  },
  {
   "cell_type": "code",
   "execution_count": 4,
   "id": "ec3c5aa4",
   "metadata": {},
   "outputs": [],
   "source": [
    "# Liens vers les fichiers de données IMDb\n",
    "# Ces fichiers sont disponibles en téléchargement sur le site IMDb\n",
    "\n",
    "link_title_basics = \"https://datasets.imdbws.com/title.basics.tsv.gz\"\n",
    "link_title_akas = \"https://datasets.imdbws.com/title.akas.tsv.gz\"\n",
    "link_title_crew = \"https://datasets.imdbws.com/title.crew.tsv.gz\"\n",
    "link_title_episode = \"https://datasets.imdbws.com/title.episode.tsv.gz\"\n",
    "link_title_principals = \"https://datasets.imdbws.com/title.principals.tsv.gz\"\n",
    "link_title_ratings = \"https://datasets.imdbws.com/title.ratings.tsv.gz\"\n",
    "link_name_basics = \"https://datasets.imdbws.com/name.basics.tsv.gz\"\n",
    "link_tmdb = \"https://drive.google.com/file/d/1VB5_gl1fnyBDzcIOXZ5vUSbCY68VZN1v/view\""
   ]
  },
  {
   "cell_type": "code",
   "execution_count": 25,
   "id": "989e267b",
   "metadata": {},
   "outputs": [
    {
     "name": "stderr",
     "output_type": "stream",
     "text": [
      "Downloading...\n",
      "From (original): https://drive.google.com/uc?id=1VB5_gl1fnyBDzcIOXZ5vUSbCY68VZN1v\n",
      "From (redirected): https://drive.google.com/uc?id=1VB5_gl1fnyBDzcIOXZ5vUSbCY68VZN1v&confirm=t&uuid=bba747d7-01cb-4f46-835a-cdab91348c22\n",
      "To: c:\\Users\\User\\Documents\\Projet2\\WildCodeSchool-Projet2\\tmdb_movies.csv\n",
      "100%|██████████| 157M/157M [00:05<00:00, 29.7MB/s] \n"
     ]
    },
    {
     "data": {
      "text/plain": [
       "'tmdb_movies.csv'"
      ]
     },
     "execution_count": 25,
     "metadata": {},
     "output_type": "execute_result"
    }
   ],
   "source": [
    "# Fichier TMDB\n",
    "file_id = \"1VB5_gl1fnyBDzcIOXZ5vUSbCY68VZN1v\"\n",
    "\n",
    "output = \"tmdb_movies.csv\"\n",
    "\n",
    "gdown.download(id=file_id,\n",
    "               output=output,\n",
    "               quiet=False,      # affiche la barre de progression\n",
    "               fuzzy=True)  "
   ]
  },
  {
   "cell_type": "code",
   "execution_count": 11,
   "id": "6160cd9e",
   "metadata": {},
   "outputs": [
    {
     "data": {
      "application/vnd.microsoft.datawrangler.viewer.v0+json": {
       "columns": [
        {
         "name": "index",
         "rawType": "int64",
         "type": "integer"
        },
        {
         "name": "tconst",
         "rawType": "object",
         "type": "string"
        },
        {
         "name": "titleType",
         "rawType": "object",
         "type": "string"
        },
        {
         "name": "primaryTitle",
         "rawType": "object",
         "type": "string"
        },
        {
         "name": "originalTitle",
         "rawType": "object",
         "type": "string"
        },
        {
         "name": "isAdult",
         "rawType": "int64",
         "type": "integer"
        },
        {
         "name": "startYear",
         "rawType": "int64",
         "type": "integer"
        },
        {
         "name": "endYear",
         "rawType": "object",
         "type": "string"
        },
        {
         "name": "runtimeMinutes",
         "rawType": "object",
         "type": "string"
        },
        {
         "name": "genres",
         "rawType": "object",
         "type": "string"
        }
       ],
       "conversionMethod": "pd.DataFrame",
       "ref": "4b0ff0b7-0b34-4401-9a02-40e281c24246",
       "rows": [
        [
         "0",
         "tt0000001",
         "short",
         "Carmencita",
         "Carmencita",
         "0",
         "1894",
         "\\N",
         "1",
         "Documentary,Short"
        ],
        [
         "1",
         "tt0000002",
         "short",
         "Le clown et ses chiens",
         "Le clown et ses chiens",
         "0",
         "1892",
         "\\N",
         "5",
         "Animation,Short"
        ],
        [
         "2",
         "tt0000003",
         "short",
         "Poor Pierrot",
         "Pauvre Pierrot",
         "0",
         "1892",
         "\\N",
         "5",
         "Animation,Comedy,Romance"
        ],
        [
         "3",
         "tt0000004",
         "short",
         "Un bon bock",
         "Un bon bock",
         "0",
         "1892",
         "\\N",
         "12",
         "Animation,Short"
        ],
        [
         "4",
         "tt0000005",
         "short",
         "Blacksmith Scene",
         "Blacksmith Scene",
         "0",
         "1893",
         "\\N",
         "1",
         "Short"
        ],
        [
         "5",
         "tt0000006",
         "short",
         "Chinese Opium Den",
         "Chinese Opium Den",
         "0",
         "1894",
         "\\N",
         "1",
         "Short"
        ],
        [
         "6",
         "tt0000007",
         "short",
         "Corbett and Courtney Before the Kinetograph",
         "Corbett and Courtney Before the Kinetograph",
         "0",
         "1894",
         "\\N",
         "1",
         "Short,Sport"
        ],
        [
         "7",
         "tt0000008",
         "short",
         "Edison Kinetoscopic Record of a Sneeze",
         "Edison Kinetoscopic Record of a Sneeze",
         "0",
         "1894",
         "\\N",
         "1",
         "Documentary,Short"
        ],
        [
         "8",
         "tt0000009",
         "movie",
         "Miss Jerry",
         "Miss Jerry",
         "0",
         "1894",
         "\\N",
         "45",
         "Romance"
        ],
        [
         "9",
         "tt0000010",
         "short",
         "Leaving the Factory",
         "La sortie de l'usine Lumière à Lyon",
         "0",
         "1895",
         "\\N",
         "1",
         "Documentary,Short"
        ],
        [
         "10",
         "tt0000011",
         "short",
         "Akrobatisches Potpourri",
         "Akrobatisches Potpourri",
         "0",
         "1895",
         "\\N",
         "1",
         "Documentary,Short"
        ],
        [
         "11",
         "tt0000012",
         "short",
         "The Arrival of a Train",
         "L'arrivée d'un train à La Ciotat",
         "0",
         "1896",
         "\\N",
         "1",
         "Documentary,Short"
        ],
        [
         "12",
         "tt0000013",
         "short",
         "The Photographical Congress Arrives in Lyon",
         "Le débarquement du congrès de photographie à Lyon",
         "0",
         "1895",
         "\\N",
         "1",
         "Documentary,Short"
        ],
        [
         "13",
         "tt0000014",
         "short",
         "The Waterer Watered",
         "L'arroseur arrosé",
         "0",
         "1895",
         "\\N",
         "1",
         "Comedy,Short"
        ],
        [
         "14",
         "tt0000015",
         "short",
         "Around a Cabin",
         "Autour d'une cabine",
         "0",
         "1894",
         "\\N",
         "2",
         "Animation,Comedy,Short"
        ],
        [
         "15",
         "tt0000016",
         "short",
         "Boat Leaving the Port",
         "Barque sortant du port",
         "0",
         "1895",
         "\\N",
         "1",
         "Documentary,Short"
        ],
        [
         "16",
         "tt0000017",
         "short",
         "Italienischer Bauerntanz",
         "Italienischer Bauerntanz",
         "0",
         "1895",
         "\\N",
         "1",
         "Documentary,Short"
        ],
        [
         "17",
         "tt0000018",
         "short",
         "Das boxende Känguruh",
         "Das boxende Känguruh",
         "0",
         "1895",
         "\\N",
         "1",
         "Short,Sport"
        ],
        [
         "18",
         "tt0000019",
         "short",
         "The Clown Barber",
         "The Clown Barber",
         "0",
         "1898",
         "\\N",
         "\\N",
         "Comedy,Short"
        ],
        [
         "19",
         "tt0000020",
         "short",
         "The Derby 1895",
         "The Derby 1895",
         "0",
         "1895",
         "\\N",
         "1",
         "Documentary,Short,Sport"
        ],
        [
         "20",
         "tt0000022",
         "short",
         "Blacksmith Scene",
         "Les forgerons",
         "0",
         "1895",
         "\\N",
         "1",
         "Documentary,Short"
        ],
        [
         "21",
         "tt0000023",
         "short",
         "The Sea",
         "Baignade en mer",
         "0",
         "1895",
         "\\N",
         "1",
         "Documentary,Short"
        ],
        [
         "22",
         "tt0000024",
         "short",
         "Opening of the Kiel Canal",
         "Opening of the Kiel Canal",
         "0",
         "1895",
         "\\N",
         "1",
         "News,Short"
        ],
        [
         "23",
         "tt0000025",
         "short",
         "The Oxford and Cambridge University Boat Race",
         "The Oxford and Cambridge University Boat Race",
         "0",
         "1896",
         "\\N",
         "\\N",
         "News,Short,Sport"
        ],
        [
         "24",
         "tt0000026",
         "short",
         "The Messers. Lumière at Cards",
         "Partie d'écarté",
         "0",
         "1896",
         "\\N",
         "1",
         "Documentary,Short"
        ],
        [
         "25",
         "tt0000027",
         "short",
         "Cordeliers' Square in Lyon",
         "Place des Cordeliers à Lyon",
         "0",
         "1895",
         "\\N",
         "1",
         "Documentary,Short"
        ],
        [
         "26",
         "tt0000028",
         "short",
         "Fishing for Goldfish",
         "La pêche aux poissons rouges",
         "0",
         "1895",
         "\\N",
         "1",
         "Documentary,Short"
        ],
        [
         "27",
         "tt0000029",
         "short",
         "Baby's Meal",
         "Repas de bébé",
         "0",
         "1895",
         "\\N",
         "1",
         "Documentary,Short"
        ],
        [
         "28",
         "tt0000030",
         "short",
         "Rough Sea at Dover",
         "Rough Sea at Dover",
         "0",
         "1895",
         "\\N",
         "1",
         "Documentary,Short"
        ],
        [
         "29",
         "tt0000031",
         "short",
         "Jumping the Blanket",
         "Le saut à la couverture",
         "0",
         "1895",
         "\\N",
         "1",
         "Documentary,Short"
        ],
        [
         "30",
         "tt0000032",
         "short",
         "Die Serpentintänzerin",
         "Die Serpentintänzerin",
         "0",
         "1895",
         "\\N",
         "1",
         "Short"
        ],
        [
         "31",
         "tt0000033",
         "short",
         "Horse Trick Riders",
         "La voltige",
         "0",
         "1895",
         "\\N",
         "1",
         "Comedy,Documentary,Short"
        ],
        [
         "32",
         "tt0000034",
         "short",
         "Arrivée d'un train gare de Vincennes",
         "Arrivée d'un train gare de Vincennes",
         "0",
         "1896",
         "\\N",
         "1",
         "Documentary,Short"
        ],
        [
         "33",
         "tt0000035",
         "short",
         "Watering the Flowers",
         "L'arroseur",
         "0",
         "1896",
         "\\N",
         "1",
         "Comedy,Short"
        ],
        [
         "34",
         "tt0000036",
         "short",
         "Awakening of Rip",
         "Awakening of Rip",
         "0",
         "1896",
         "\\N",
         "1",
         "Drama,Short"
        ],
        [
         "35",
         "tt0000037",
         "short",
         "Sea Bathing",
         "Baignade en mer",
         "0",
         "1896",
         "\\N",
         "1",
         "Short"
        ],
        [
         "36",
         "tt0000038",
         "short",
         "The Ball Game",
         "The Ball Game",
         "0",
         "1898",
         "\\N",
         "1",
         "Documentary,Short,Sport"
        ],
        [
         "37",
         "tt0000039",
         "short",
         "Barnet Horse Fair",
         "Barnet Horse Fair",
         "0",
         "1896",
         "\\N",
         "\\N",
         "Short"
        ],
        [
         "38",
         "tt0000040",
         "short",
         "Barque sortant du port de Trouville",
         "Barque sortant du port de Trouville",
         "0",
         "1896",
         "\\N",
         "\\N",
         "Documentary,Short"
        ],
        [
         "39",
         "tt0000041",
         "short",
         "Bataille de neige",
         "Bataille de neige",
         "0",
         "1897",
         "\\N",
         "1",
         "Comedy,Documentary,Short"
        ],
        [
         "40",
         "tt0000042",
         "short",
         "Bateau-mouche sur la Seine",
         "Bateau-mouche sur la Seine",
         "0",
         "1896",
         "\\N",
         "\\N",
         "Documentary,Short"
        ],
        [
         "41",
         "tt0000043",
         "short",
         "Batteuse à vapeur",
         "Batteuse à vapeur",
         "0",
         "1896",
         "\\N",
         "\\N",
         "Documentary,Short"
        ],
        [
         "42",
         "tt0000044",
         "short",
         "Le bivouac",
         "Le bivouac",
         "0",
         "1896",
         "\\N",
         "1",
         "Short"
        ],
        [
         "43",
         "tt0000045",
         "short",
         "Les blanchisseuses",
         "Les blanchisseuses",
         "0",
         "1896",
         "\\N",
         "\\N",
         "Short"
        ],
        [
         "44",
         "tt0000046",
         "short",
         "Bois de Boulogne",
         "Bois de Boulogne",
         "0",
         "1896",
         "\\N",
         "\\N",
         "Documentary,Short"
        ],
        [
         "45",
         "tt0000047",
         "short",
         "Boulevard des Italiens",
         "Boulevard des Italiens",
         "0",
         "1896",
         "\\N",
         "\\N",
         "Documentary,Short"
        ],
        [
         "46",
         "tt0000048",
         "short",
         "The Boxing Kangaroo",
         "The Boxing Kangaroo",
         "0",
         "1896",
         "\\N",
         "\\N",
         "Short"
        ],
        [
         "47",
         "tt0000049",
         "short",
         "Boxing Match; or, Glove Contest",
         "Boxing Match; or, Glove Contest",
         "0",
         "1896",
         "\\N",
         "\\N",
         "Short,Sport"
        ],
        [
         "48",
         "tt0000050",
         "short",
         "Bébé et fillettes",
         "Bébé et fillettes",
         "0",
         "1896",
         "\\N",
         "\\N",
         "Documentary,Short"
        ],
        [
         "49",
         "tt0000051",
         "short",
         "The Bohemian Encampment",
         "Campement de bohémiens",
         "0",
         "1896",
         "\\N",
         "\\N",
         "Documentary,Short"
        ]
       ],
       "shape": {
        "columns": 9,
        "rows": 100
       }
      },
      "text/html": [
       "<div>\n",
       "<style scoped>\n",
       "    .dataframe tbody tr th:only-of-type {\n",
       "        vertical-align: middle;\n",
       "    }\n",
       "\n",
       "    .dataframe tbody tr th {\n",
       "        vertical-align: top;\n",
       "    }\n",
       "\n",
       "    .dataframe thead th {\n",
       "        text-align: right;\n",
       "    }\n",
       "</style>\n",
       "<table border=\"1\" class=\"dataframe\">\n",
       "  <thead>\n",
       "    <tr style=\"text-align: right;\">\n",
       "      <th></th>\n",
       "      <th>tconst</th>\n",
       "      <th>titleType</th>\n",
       "      <th>primaryTitle</th>\n",
       "      <th>originalTitle</th>\n",
       "      <th>isAdult</th>\n",
       "      <th>startYear</th>\n",
       "      <th>endYear</th>\n",
       "      <th>runtimeMinutes</th>\n",
       "      <th>genres</th>\n",
       "    </tr>\n",
       "  </thead>\n",
       "  <tbody>\n",
       "    <tr>\n",
       "      <th>0</th>\n",
       "      <td>tt0000001</td>\n",
       "      <td>short</td>\n",
       "      <td>Carmencita</td>\n",
       "      <td>Carmencita</td>\n",
       "      <td>0</td>\n",
       "      <td>1894</td>\n",
       "      <td>\\N</td>\n",
       "      <td>1</td>\n",
       "      <td>Documentary,Short</td>\n",
       "    </tr>\n",
       "    <tr>\n",
       "      <th>1</th>\n",
       "      <td>tt0000002</td>\n",
       "      <td>short</td>\n",
       "      <td>Le clown et ses chiens</td>\n",
       "      <td>Le clown et ses chiens</td>\n",
       "      <td>0</td>\n",
       "      <td>1892</td>\n",
       "      <td>\\N</td>\n",
       "      <td>5</td>\n",
       "      <td>Animation,Short</td>\n",
       "    </tr>\n",
       "    <tr>\n",
       "      <th>2</th>\n",
       "      <td>tt0000003</td>\n",
       "      <td>short</td>\n",
       "      <td>Poor Pierrot</td>\n",
       "      <td>Pauvre Pierrot</td>\n",
       "      <td>0</td>\n",
       "      <td>1892</td>\n",
       "      <td>\\N</td>\n",
       "      <td>5</td>\n",
       "      <td>Animation,Comedy,Romance</td>\n",
       "    </tr>\n",
       "    <tr>\n",
       "      <th>3</th>\n",
       "      <td>tt0000004</td>\n",
       "      <td>short</td>\n",
       "      <td>Un bon bock</td>\n",
       "      <td>Un bon bock</td>\n",
       "      <td>0</td>\n",
       "      <td>1892</td>\n",
       "      <td>\\N</td>\n",
       "      <td>12</td>\n",
       "      <td>Animation,Short</td>\n",
       "    </tr>\n",
       "    <tr>\n",
       "      <th>4</th>\n",
       "      <td>tt0000005</td>\n",
       "      <td>short</td>\n",
       "      <td>Blacksmith Scene</td>\n",
       "      <td>Blacksmith Scene</td>\n",
       "      <td>0</td>\n",
       "      <td>1893</td>\n",
       "      <td>\\N</td>\n",
       "      <td>1</td>\n",
       "      <td>Short</td>\n",
       "    </tr>\n",
       "    <tr>\n",
       "      <th>...</th>\n",
       "      <td>...</td>\n",
       "      <td>...</td>\n",
       "      <td>...</td>\n",
       "      <td>...</td>\n",
       "      <td>...</td>\n",
       "      <td>...</td>\n",
       "      <td>...</td>\n",
       "      <td>...</td>\n",
       "      <td>...</td>\n",
       "    </tr>\n",
       "    <tr>\n",
       "      <th>95</th>\n",
       "      <td>tt0000097</td>\n",
       "      <td>short</td>\n",
       "      <td>Place de l'Opéra, First View</td>\n",
       "      <td>Place de l'Opéra, 1er aspect</td>\n",
       "      <td>0</td>\n",
       "      <td>1896</td>\n",
       "      <td>\\N</td>\n",
       "      <td>\\N</td>\n",
       "      <td>Documentary,Short</td>\n",
       "    </tr>\n",
       "    <tr>\n",
       "      <th>96</th>\n",
       "      <td>tt0000098</td>\n",
       "      <td>short</td>\n",
       "      <td>Place de l'Opéra, Second View</td>\n",
       "      <td>Place de l'Opéra, 2e aspect</td>\n",
       "      <td>0</td>\n",
       "      <td>1896</td>\n",
       "      <td>\\N</td>\n",
       "      <td>\\N</td>\n",
       "      <td>Documentary,Short</td>\n",
       "    </tr>\n",
       "    <tr>\n",
       "      <th>97</th>\n",
       "      <td>tt0000099</td>\n",
       "      <td>short</td>\n",
       "      <td>Place de la Bastille</td>\n",
       "      <td>Place de la Bastille</td>\n",
       "      <td>0</td>\n",
       "      <td>1896</td>\n",
       "      <td>\\N</td>\n",
       "      <td>\\N</td>\n",
       "      <td>Documentary,Short</td>\n",
       "    </tr>\n",
       "    <tr>\n",
       "      <th>98</th>\n",
       "      <td>tt0000100</td>\n",
       "      <td>short</td>\n",
       "      <td>Place de la Concorde</td>\n",
       "      <td>Place de la Concorde</td>\n",
       "      <td>0</td>\n",
       "      <td>1896</td>\n",
       "      <td>\\N</td>\n",
       "      <td>\\N</td>\n",
       "      <td>Documentary,Short</td>\n",
       "    </tr>\n",
       "    <tr>\n",
       "      <th>99</th>\n",
       "      <td>tt0000101</td>\n",
       "      <td>short</td>\n",
       "      <td>Place du théâtre français</td>\n",
       "      <td>Place du théâtre français</td>\n",
       "      <td>0</td>\n",
       "      <td>1896</td>\n",
       "      <td>\\N</td>\n",
       "      <td>\\N</td>\n",
       "      <td>Documentary,Short</td>\n",
       "    </tr>\n",
       "  </tbody>\n",
       "</table>\n",
       "<p>100 rows × 9 columns</p>\n",
       "</div>"
      ],
      "text/plain": [
       "       tconst titleType                   primaryTitle  \\\n",
       "0   tt0000001     short                     Carmencita   \n",
       "1   tt0000002     short         Le clown et ses chiens   \n",
       "2   tt0000003     short                   Poor Pierrot   \n",
       "3   tt0000004     short                    Un bon bock   \n",
       "4   tt0000005     short               Blacksmith Scene   \n",
       "..        ...       ...                            ...   \n",
       "95  tt0000097     short   Place de l'Opéra, First View   \n",
       "96  tt0000098     short  Place de l'Opéra, Second View   \n",
       "97  tt0000099     short           Place de la Bastille   \n",
       "98  tt0000100     short           Place de la Concorde   \n",
       "99  tt0000101     short      Place du théâtre français   \n",
       "\n",
       "                   originalTitle  isAdult  startYear endYear runtimeMinutes  \\\n",
       "0                     Carmencita        0       1894      \\N              1   \n",
       "1         Le clown et ses chiens        0       1892      \\N              5   \n",
       "2                 Pauvre Pierrot        0       1892      \\N              5   \n",
       "3                    Un bon bock        0       1892      \\N             12   \n",
       "4               Blacksmith Scene        0       1893      \\N              1   \n",
       "..                           ...      ...        ...     ...            ...   \n",
       "95  Place de l'Opéra, 1er aspect        0       1896      \\N             \\N   \n",
       "96   Place de l'Opéra, 2e aspect        0       1896      \\N             \\N   \n",
       "97          Place de la Bastille        0       1896      \\N             \\N   \n",
       "98          Place de la Concorde        0       1896      \\N             \\N   \n",
       "99     Place du théâtre français        0       1896      \\N             \\N   \n",
       "\n",
       "                      genres  \n",
       "0          Documentary,Short  \n",
       "1            Animation,Short  \n",
       "2   Animation,Comedy,Romance  \n",
       "3            Animation,Short  \n",
       "4                      Short  \n",
       "..                       ...  \n",
       "95         Documentary,Short  \n",
       "96         Documentary,Short  \n",
       "97         Documentary,Short  \n",
       "98         Documentary,Short  \n",
       "99         Documentary,Short  \n",
       "\n",
       "[100 rows x 9 columns]"
      ]
     },
     "execution_count": 11,
     "metadata": {},
     "output_type": "execute_result"
    }
   ],
   "source": [
    "df_title_basics = pd.read_csv(link_title_basics, sep=\"\\t\",chunksize=1000, low_memory=False)\n",
    "\n",
    "df_title_basics.get_chunk(100)\n"
   ]
  },
  {
   "cell_type": "code",
   "execution_count": 10,
   "id": "46be076b",
   "metadata": {},
   "outputs": [
    {
     "data": {
      "application/vnd.microsoft.datawrangler.viewer.v0+json": {
       "columns": [
        {
         "name": "index",
         "rawType": "int64",
         "type": "integer"
        },
        {
         "name": "titleId",
         "rawType": "object",
         "type": "string"
        },
        {
         "name": "ordering",
         "rawType": "int64",
         "type": "integer"
        },
        {
         "name": "title",
         "rawType": "object",
         "type": "string"
        },
        {
         "name": "region",
         "rawType": "object",
         "type": "string"
        },
        {
         "name": "language",
         "rawType": "object",
         "type": "string"
        },
        {
         "name": "types",
         "rawType": "object",
         "type": "string"
        },
        {
         "name": "attributes",
         "rawType": "object",
         "type": "string"
        },
        {
         "name": "isOriginalTitle",
         "rawType": "int64",
         "type": "integer"
        }
       ],
       "conversionMethod": "pd.DataFrame",
       "ref": "d1b09c22-d059-445f-8655-f64406170380",
       "rows": [
        [
         "0",
         "tt0000001",
         "1",
         "Carmencita",
         "\\N",
         "\\N",
         "original",
         "\\N",
         "1"
        ],
        [
         "1",
         "tt0000001",
         "2",
         "Carmencita",
         "DE",
         "\\N",
         "\\N",
         "literal title",
         "0"
        ],
        [
         "2",
         "tt0000001",
         "3",
         "Carmencita",
         "US",
         "\\N",
         "imdbDisplay",
         "\\N",
         "0"
        ],
        [
         "3",
         "tt0000001",
         "4",
         "Carmencita - spanyol tánc",
         "HU",
         "\\N",
         "imdbDisplay",
         "\\N",
         "0"
        ],
        [
         "4",
         "tt0000001",
         "5",
         "Καρμενσίτα",
         "GR",
         "\\N",
         "imdbDisplay",
         "\\N",
         "0"
        ],
        [
         "5",
         "tt0000001",
         "6",
         "Карменсита",
         "RU",
         "\\N",
         "imdbDisplay",
         "\\N",
         "0"
        ],
        [
         "6",
         "tt0000001",
         "7",
         "Карменсіта",
         "UA",
         "\\N",
         "imdbDisplay",
         "\\N",
         "0"
        ],
        [
         "7",
         "tt0000001",
         "8",
         "カルメンチータ",
         "JP",
         "ja",
         "imdbDisplay",
         "\\N",
         "0"
        ],
        [
         "8",
         "tt0000002",
         "1",
         "Le clown et ses chiens",
         "\\N",
         "\\N",
         "original",
         "\\N",
         "1"
        ],
        [
         "9",
         "tt0000002",
         "2",
         "A bohóc és kutyái",
         "HU",
         "\\N",
         "imdbDisplay",
         "\\N",
         "0"
        ],
        [
         "10",
         "tt0000002",
         "3",
         "Clovnul si cainii sai",
         "RO",
         "\\N",
         "imdbDisplay",
         "\\N",
         "0"
        ],
        [
         "11",
         "tt0000002",
         "4",
         "Der Clown und seine Hunde",
         "DE",
         "\\N",
         "\\N",
         "literal title",
         "0"
        ],
        [
         "12",
         "tt0000002",
         "5",
         "Le clown et ses chiens",
         "FR",
         "\\N",
         "imdbDisplay",
         "\\N",
         "0"
        ],
        [
         "13",
         "tt0000002",
         "6",
         "The Clown and His Dogs",
         "US",
         "\\N",
         "\\N",
         "literal English title",
         "0"
        ],
        [
         "14",
         "tt0000002",
         "7",
         "Клоун и его собаки",
         "RU",
         "\\N",
         "imdbDisplay",
         "\\N",
         "0"
        ],
        [
         "15",
         "tt0000002",
         "8",
         "道化師と犬",
         "JP",
         "ja",
         "imdbDisplay",
         "\\N",
         "0"
        ],
        [
         "16",
         "tt0000003",
         "1",
         "Pauvre Pierrot",
         "\\N",
         "\\N",
         "original",
         "\\N",
         "1"
        ],
        [
         "17",
         "tt0000003",
         "10",
         "哀れなピエロ",
         "JP",
         "ja",
         "imdbDisplay",
         "\\N",
         "0"
        ],
        [
         "18",
         "tt0000003",
         "2",
         "Poor Pierrot",
         "GB",
         "\\N",
         "imdbDisplay",
         "\\N",
         "0"
        ],
        [
         "19",
         "tt0000003",
         "3",
         "Poor Pierrot",
         "US",
         "\\N",
         "imdbDisplay",
         "\\N",
         "0"
        ],
        [
         "20",
         "tt0000003",
         "4",
         "Armer Pierrot",
         "DE",
         "\\N",
         "\\N",
         "literal title",
         "0"
        ],
        [
         "21",
         "tt0000003",
         "5",
         "Pauvre Pierrot",
         "FR",
         "\\N",
         "imdbDisplay",
         "\\N",
         "0"
        ],
        [
         "22",
         "tt0000003",
         "6",
         "Sarmanul Pierrot",
         "RO",
         "\\N",
         "imdbDisplay",
         "\\N",
         "0"
        ],
        [
         "23",
         "tt0000003",
         "7",
         "Szegény Pierrot",
         "HU",
         "\\N",
         "imdbDisplay",
         "\\N",
         "0"
        ],
        [
         "24",
         "tt0000003",
         "8",
         "Бедный Пьеро",
         "RU",
         "\\N",
         "imdbDisplay",
         "\\N",
         "0"
        ],
        [
         "25",
         "tt0000003",
         "9",
         "Бідний П'єро",
         "UA",
         "\\N",
         "imdbDisplay",
         "\\N",
         "0"
        ],
        [
         "26",
         "tt0000004",
         "1",
         "Un bon bock",
         "\\N",
         "\\N",
         "original",
         "\\N",
         "1"
        ],
        [
         "27",
         "tt0000004",
         "2",
         "A Good Beer",
         "\\N",
         "\\N",
         "\\N",
         "\\N",
         "0"
        ],
        [
         "28",
         "tt0000004",
         "3",
         "Egy jó pohár sör",
         "HU",
         "\\N",
         "imdbDisplay",
         "\\N",
         "0"
        ],
        [
         "29",
         "tt0000004",
         "4",
         "Ein gutes Glas Bier",
         "DE",
         "\\N",
         "\\N",
         "literal title",
         "0"
        ],
        [
         "30",
         "tt0000004",
         "5",
         "Un bon bock",
         "FR",
         "\\N",
         "imdbDisplay",
         "\\N",
         "0"
        ],
        [
         "31",
         "tt0000004",
         "6",
         "Un ţap de bere",
         "RO",
         "\\N",
         "imdbDisplay",
         "\\N",
         "0"
        ],
        [
         "32",
         "tt0000004",
         "7",
         "Полная кружка пива",
         "RU",
         "\\N",
         "imdbDisplay",
         "\\N",
         "0"
        ],
        [
         "33",
         "tt0000004",
         "8",
         "一杯のビール",
         "JP",
         "ja",
         "imdbDisplay",
         "\\N",
         "0"
        ],
        [
         "34",
         "tt0000005",
         "1",
         "Blacksmith Scene",
         "\\N",
         "\\N",
         "original",
         "\\N",
         "1"
        ],
        [
         "35",
         "tt0000005",
         "10",
         "The Blacksmith's Forge",
         "GB",
         "\\N",
         "\\N",
         "informal alternative title",
         "0"
        ],
        [
         "36",
         "tt0000005",
         "11",
         "Ковальська сцена",
         "UA",
         "\\N",
         "imdbDisplay",
         "\\N",
         "0"
        ],
        [
         "37",
         "tt0000005",
         "12",
         "Сцена в кузне",
         "RU",
         "\\N",
         "imdbDisplay",
         "\\N",
         "0"
        ],
        [
         "38",
         "tt0000005",
         "2",
         "Blacksmith Scene",
         "CA",
         "en",
         "imdbDisplay",
         "\\N",
         "0"
        ],
        [
         "39",
         "tt0000005",
         "3",
         "Blacksmith Scene",
         "US",
         "\\N",
         "imdbDisplay",
         "\\N",
         "0"
        ],
        [
         "40",
         "tt0000005",
         "4",
         "A patkolókovács",
         "HU",
         "\\N",
         "imdbDisplay",
         "\\N",
         "0"
        ],
        [
         "41",
         "tt0000005",
         "5",
         "Blacksmith Scene #1",
         "US",
         "\\N",
         "alternative",
         "\\N",
         "0"
        ],
        [
         "42",
         "tt0000005",
         "6",
         "Blacksmith Shop",
         "GB",
         "\\N",
         "\\N",
         "informal alternative title",
         "0"
        ],
        [
         "43",
         "tt0000005",
         "7",
         "Blacksmithing",
         "US",
         "\\N",
         "\\N",
         "informal alternative title",
         "0"
        ],
        [
         "44",
         "tt0000005",
         "8",
         "Blacksmithing Scene",
         "US",
         "\\N",
         "alternative",
         "\\N",
         "0"
        ],
        [
         "45",
         "tt0000005",
         "9",
         "Schmiedszene",
         "DE",
         "\\N",
         "\\N",
         "literal title",
         "0"
        ],
        [
         "46",
         "tt0000006",
         "1",
         "Chinese Opium Den",
         "\\N",
         "\\N",
         "original",
         "\\N",
         "1"
        ],
        [
         "47",
         "tt0000006",
         "2",
         "Chinese Opium Den",
         "US",
         "\\N",
         "imdbDisplay",
         "\\N",
         "0"
        ],
        [
         "48",
         "tt0000006",
         "3",
         "Chinesische Opiumhöhle",
         "DE",
         "\\N",
         "\\N",
         "literal title",
         "0"
        ],
        [
         "49",
         "tt0000006",
         "4",
         "Chinezes Fumadores de Ópio",
         "PT",
         "\\N",
         "\\N",
         "promotional title",
         "0"
        ]
       ],
       "shape": {
        "columns": 8,
        "rows": 100
       }
      },
      "text/html": [
       "<div>\n",
       "<style scoped>\n",
       "    .dataframe tbody tr th:only-of-type {\n",
       "        vertical-align: middle;\n",
       "    }\n",
       "\n",
       "    .dataframe tbody tr th {\n",
       "        vertical-align: top;\n",
       "    }\n",
       "\n",
       "    .dataframe thead th {\n",
       "        text-align: right;\n",
       "    }\n",
       "</style>\n",
       "<table border=\"1\" class=\"dataframe\">\n",
       "  <thead>\n",
       "    <tr style=\"text-align: right;\">\n",
       "      <th></th>\n",
       "      <th>titleId</th>\n",
       "      <th>ordering</th>\n",
       "      <th>title</th>\n",
       "      <th>region</th>\n",
       "      <th>language</th>\n",
       "      <th>types</th>\n",
       "      <th>attributes</th>\n",
       "      <th>isOriginalTitle</th>\n",
       "    </tr>\n",
       "  </thead>\n",
       "  <tbody>\n",
       "    <tr>\n",
       "      <th>0</th>\n",
       "      <td>tt0000001</td>\n",
       "      <td>1</td>\n",
       "      <td>Carmencita</td>\n",
       "      <td>\\N</td>\n",
       "      <td>\\N</td>\n",
       "      <td>original</td>\n",
       "      <td>\\N</td>\n",
       "      <td>1</td>\n",
       "    </tr>\n",
       "    <tr>\n",
       "      <th>1</th>\n",
       "      <td>tt0000001</td>\n",
       "      <td>2</td>\n",
       "      <td>Carmencita</td>\n",
       "      <td>DE</td>\n",
       "      <td>\\N</td>\n",
       "      <td>\\N</td>\n",
       "      <td>literal title</td>\n",
       "      <td>0</td>\n",
       "    </tr>\n",
       "    <tr>\n",
       "      <th>2</th>\n",
       "      <td>tt0000001</td>\n",
       "      <td>3</td>\n",
       "      <td>Carmencita</td>\n",
       "      <td>US</td>\n",
       "      <td>\\N</td>\n",
       "      <td>imdbDisplay</td>\n",
       "      <td>\\N</td>\n",
       "      <td>0</td>\n",
       "    </tr>\n",
       "    <tr>\n",
       "      <th>3</th>\n",
       "      <td>tt0000001</td>\n",
       "      <td>4</td>\n",
       "      <td>Carmencita - spanyol tánc</td>\n",
       "      <td>HU</td>\n",
       "      <td>\\N</td>\n",
       "      <td>imdbDisplay</td>\n",
       "      <td>\\N</td>\n",
       "      <td>0</td>\n",
       "    </tr>\n",
       "    <tr>\n",
       "      <th>4</th>\n",
       "      <td>tt0000001</td>\n",
       "      <td>5</td>\n",
       "      <td>Καρμενσίτα</td>\n",
       "      <td>GR</td>\n",
       "      <td>\\N</td>\n",
       "      <td>imdbDisplay</td>\n",
       "      <td>\\N</td>\n",
       "      <td>0</td>\n",
       "    </tr>\n",
       "    <tr>\n",
       "      <th>...</th>\n",
       "      <td>...</td>\n",
       "      <td>...</td>\n",
       "      <td>...</td>\n",
       "      <td>...</td>\n",
       "      <td>...</td>\n",
       "      <td>...</td>\n",
       "      <td>...</td>\n",
       "      <td>...</td>\n",
       "    </tr>\n",
       "    <tr>\n",
       "      <th>95</th>\n",
       "      <td>tt0000010</td>\n",
       "      <td>24</td>\n",
       "      <td>Workers Leaving the Lumière Factory</td>\n",
       "      <td>US</td>\n",
       "      <td>\\N</td>\n",
       "      <td>imdbDisplay</td>\n",
       "      <td>\\N</td>\n",
       "      <td>0</td>\n",
       "    </tr>\n",
       "    <tr>\n",
       "      <th>96</th>\n",
       "      <td>tt0000010</td>\n",
       "      <td>25</td>\n",
       "      <td>Wyjście robotników z fabryki</td>\n",
       "      <td>PL</td>\n",
       "      <td>\\N</td>\n",
       "      <td>imdbDisplay</td>\n",
       "      <td>\\N</td>\n",
       "      <td>0</td>\n",
       "    </tr>\n",
       "    <tr>\n",
       "      <th>97</th>\n",
       "      <td>tt0000010</td>\n",
       "      <td>26</td>\n",
       "      <td>Вихід робітників із фабрики</td>\n",
       "      <td>UA</td>\n",
       "      <td>\\N</td>\n",
       "      <td>imdbDisplay</td>\n",
       "      <td>\\N</td>\n",
       "      <td>0</td>\n",
       "    </tr>\n",
       "    <tr>\n",
       "      <th>98</th>\n",
       "      <td>tt0000010</td>\n",
       "      <td>27</td>\n",
       "      <td>Выход рабочих с фабрики «Люмьер»</td>\n",
       "      <td>RU</td>\n",
       "      <td>\\N</td>\n",
       "      <td>imdbDisplay</td>\n",
       "      <td>\\N</td>\n",
       "      <td>0</td>\n",
       "    </tr>\n",
       "    <tr>\n",
       "      <th>99</th>\n",
       "      <td>tt0000010</td>\n",
       "      <td>28</td>\n",
       "      <td>Излизането от фабриките</td>\n",
       "      <td>BG</td>\n",
       "      <td>bg</td>\n",
       "      <td>imdbDisplay</td>\n",
       "      <td>\\N</td>\n",
       "      <td>0</td>\n",
       "    </tr>\n",
       "  </tbody>\n",
       "</table>\n",
       "<p>100 rows × 8 columns</p>\n",
       "</div>"
      ],
      "text/plain": [
       "      titleId  ordering                                title region language  \\\n",
       "0   tt0000001         1                           Carmencita     \\N       \\N   \n",
       "1   tt0000001         2                           Carmencita     DE       \\N   \n",
       "2   tt0000001         3                           Carmencita     US       \\N   \n",
       "3   tt0000001         4            Carmencita - spanyol tánc     HU       \\N   \n",
       "4   tt0000001         5                           Καρμενσίτα     GR       \\N   \n",
       "..        ...       ...                                  ...    ...      ...   \n",
       "95  tt0000010        24  Workers Leaving the Lumière Factory     US       \\N   \n",
       "96  tt0000010        25         Wyjście robotników z fabryki     PL       \\N   \n",
       "97  tt0000010        26          Вихід робітників із фабрики     UA       \\N   \n",
       "98  tt0000010        27     Выход рабочих с фабрики «Люмьер»     RU       \\N   \n",
       "99  tt0000010        28              Излизането от фабриките     BG       bg   \n",
       "\n",
       "          types     attributes  isOriginalTitle  \n",
       "0      original             \\N                1  \n",
       "1            \\N  literal title                0  \n",
       "2   imdbDisplay             \\N                0  \n",
       "3   imdbDisplay             \\N                0  \n",
       "4   imdbDisplay             \\N                0  \n",
       "..          ...            ...              ...  \n",
       "95  imdbDisplay             \\N                0  \n",
       "96  imdbDisplay             \\N                0  \n",
       "97  imdbDisplay             \\N                0  \n",
       "98  imdbDisplay             \\N                0  \n",
       "99  imdbDisplay             \\N                0  \n",
       "\n",
       "[100 rows x 8 columns]"
      ]
     },
     "execution_count": 10,
     "metadata": {},
     "output_type": "execute_result"
    }
   ],
   "source": [
    "df_title_akas = pd.read_csv(link_title_akas, sep=\"\\t\", chunksize=1000, low_memory=False)\n",
    "df_title_akas.get_chunk(100)"
   ]
  },
  {
   "cell_type": "code",
   "execution_count": 14,
   "id": "f2be4f27",
   "metadata": {},
   "outputs": [
    {
     "data": {
      "application/vnd.microsoft.datawrangler.viewer.v0+json": {
       "columns": [
        {
         "name": "index",
         "rawType": "int64",
         "type": "integer"
        },
        {
         "name": "tconst",
         "rawType": "object",
         "type": "string"
        },
        {
         "name": "directors",
         "rawType": "object",
         "type": "string"
        },
        {
         "name": "writers",
         "rawType": "object",
         "type": "string"
        }
       ],
       "conversionMethod": "pd.DataFrame",
       "ref": "98d6da94-6a99-4527-9b6b-e02ef2ac0f17",
       "rows": [
        [
         "0",
         "tt0000001",
         "nm0005690",
         "\\N"
        ],
        [
         "1",
         "tt0000002",
         "nm0721526",
         "\\N"
        ],
        [
         "2",
         "tt0000003",
         "nm0721526",
         "nm0721526"
        ],
        [
         "3",
         "tt0000004",
         "nm0721526",
         "\\N"
        ],
        [
         "4",
         "tt0000005",
         "nm0005690",
         "\\N"
        ],
        [
         "5",
         "tt0000006",
         "nm0005690",
         "\\N"
        ],
        [
         "6",
         "tt0000007",
         "nm0005690,nm0374658",
         "\\N"
        ],
        [
         "7",
         "tt0000008",
         "nm0005690",
         "\\N"
        ],
        [
         "8",
         "tt0000009",
         "nm0085156",
         "nm0085156"
        ],
        [
         "9",
         "tt0000010",
         "nm0525910",
         "\\N"
        ],
        [
         "10",
         "tt0000011",
         "nm0804434",
         "\\N"
        ],
        [
         "11",
         "tt0000012",
         "nm0525908,nm0525910",
         "\\N"
        ],
        [
         "12",
         "tt0000013",
         "nm0525910",
         "\\N"
        ],
        [
         "13",
         "tt0000014",
         "nm0525910",
         "\\N"
        ],
        [
         "14",
         "tt0000015",
         "nm0721526",
         "nm0721526"
        ],
        [
         "15",
         "tt0000016",
         "nm0525910",
         "\\N"
        ],
        [
         "16",
         "tt0000017",
         "nm1587194,nm0804434",
         "\\N"
        ],
        [
         "17",
         "tt0000018",
         "nm0804434",
         "\\N"
        ],
        [
         "18",
         "tt0000019",
         "nm0932055",
         "\\N"
        ],
        [
         "19",
         "tt0000020",
         "nm0010291",
         "\\N"
        ],
        [
         "20",
         "tt0000022",
         "nm0525910",
         "\\N"
        ],
        [
         "21",
         "tt0000023",
         "nm0525910",
         "\\N"
        ],
        [
         "22",
         "tt0000024",
         "nm0010291",
         "\\N"
        ],
        [
         "23",
         "tt0000025",
         "nm0010291",
         "\\N"
        ],
        [
         "24",
         "tt0000026",
         "nm0525910",
         "\\N"
        ],
        [
         "25",
         "tt0000027",
         "nm0525910",
         "\\N"
        ],
        [
         "26",
         "tt0000028",
         "nm0525910",
         "\\N"
        ],
        [
         "27",
         "tt0000029",
         "nm0525910",
         "\\N"
        ],
        [
         "28",
         "tt0000030",
         "nm0010291,nm0666972",
         "\\N"
        ],
        [
         "29",
         "tt0000031",
         "nm0525910",
         "\\N"
        ],
        [
         "30",
         "tt0000032",
         "nm0804434",
         "\\N"
        ],
        [
         "31",
         "tt0000033",
         "nm0525910",
         "\\N"
        ],
        [
         "32",
         "tt0000034",
         "nm0617588",
         "\\N"
        ],
        [
         "33",
         "tt0000035",
         "nm0617588",
         "\\N"
        ],
        [
         "34",
         "tt0000036",
         "nm0005690",
         "nm0410331"
        ],
        [
         "35",
         "tt0000037",
         "nm0617588",
         "\\N"
        ],
        [
         "36",
         "tt0000038",
         "nm0374658",
         "\\N"
        ],
        [
         "37",
         "tt0000039",
         "\\N",
         "\\N"
        ],
        [
         "38",
         "tt0000040",
         "nm0617588",
         "\\N"
        ],
        [
         "39",
         "tt0000041",
         "nm0525910",
         "\\N"
        ],
        [
         "40",
         "tt0000042",
         "nm0617588",
         "\\N"
        ],
        [
         "41",
         "tt0000043",
         "nm0617588",
         "\\N"
        ],
        [
         "42",
         "tt0000044",
         "nm0617588",
         "\\N"
        ],
        [
         "43",
         "tt0000045",
         "nm0617588",
         "\\N"
        ],
        [
         "44",
         "tt0000046",
         "nm0617588",
         "\\N"
        ],
        [
         "45",
         "tt0000047",
         "nm0617588",
         "\\N"
        ],
        [
         "46",
         "tt0000048",
         "nm0010291",
         "\\N"
        ],
        [
         "47",
         "tt0000049",
         "nm0010291",
         "\\N"
        ],
        [
         "48",
         "tt0000050",
         "nm0617588",
         "\\N"
        ],
        [
         "49",
         "tt0000051",
         "nm0617588",
         "\\N"
        ]
       ],
       "shape": {
        "columns": 3,
        "rows": 11619558
       }
      },
      "text/html": [
       "<div>\n",
       "<style scoped>\n",
       "    .dataframe tbody tr th:only-of-type {\n",
       "        vertical-align: middle;\n",
       "    }\n",
       "\n",
       "    .dataframe tbody tr th {\n",
       "        vertical-align: top;\n",
       "    }\n",
       "\n",
       "    .dataframe thead th {\n",
       "        text-align: right;\n",
       "    }\n",
       "</style>\n",
       "<table border=\"1\" class=\"dataframe\">\n",
       "  <thead>\n",
       "    <tr style=\"text-align: right;\">\n",
       "      <th></th>\n",
       "      <th>tconst</th>\n",
       "      <th>directors</th>\n",
       "      <th>writers</th>\n",
       "    </tr>\n",
       "  </thead>\n",
       "  <tbody>\n",
       "    <tr>\n",
       "      <th>0</th>\n",
       "      <td>tt0000001</td>\n",
       "      <td>nm0005690</td>\n",
       "      <td>\\N</td>\n",
       "    </tr>\n",
       "    <tr>\n",
       "      <th>1</th>\n",
       "      <td>tt0000002</td>\n",
       "      <td>nm0721526</td>\n",
       "      <td>\\N</td>\n",
       "    </tr>\n",
       "    <tr>\n",
       "      <th>2</th>\n",
       "      <td>tt0000003</td>\n",
       "      <td>nm0721526</td>\n",
       "      <td>nm0721526</td>\n",
       "    </tr>\n",
       "    <tr>\n",
       "      <th>3</th>\n",
       "      <td>tt0000004</td>\n",
       "      <td>nm0721526</td>\n",
       "      <td>\\N</td>\n",
       "    </tr>\n",
       "    <tr>\n",
       "      <th>4</th>\n",
       "      <td>tt0000005</td>\n",
       "      <td>nm0005690</td>\n",
       "      <td>\\N</td>\n",
       "    </tr>\n",
       "    <tr>\n",
       "      <th>...</th>\n",
       "      <td>...</td>\n",
       "      <td>...</td>\n",
       "      <td>...</td>\n",
       "    </tr>\n",
       "    <tr>\n",
       "      <th>11619553</th>\n",
       "      <td>tt9916848</td>\n",
       "      <td>nm1485677</td>\n",
       "      <td>nm9187127,nm1485677,nm9826385,nm9299459,nm1628284</td>\n",
       "    </tr>\n",
       "    <tr>\n",
       "      <th>11619554</th>\n",
       "      <td>tt9916850</td>\n",
       "      <td>nm1485677</td>\n",
       "      <td>nm9187127,nm1485677,nm9826385,nm1628284</td>\n",
       "    </tr>\n",
       "    <tr>\n",
       "      <th>11619555</th>\n",
       "      <td>tt9916852</td>\n",
       "      <td>nm1485677</td>\n",
       "      <td>nm9187127,nm1485677,nm9826385,nm9299459,nm1628284</td>\n",
       "    </tr>\n",
       "    <tr>\n",
       "      <th>11619556</th>\n",
       "      <td>tt9916856</td>\n",
       "      <td>nm10538645</td>\n",
       "      <td>nm6951431</td>\n",
       "    </tr>\n",
       "    <tr>\n",
       "      <th>11619557</th>\n",
       "      <td>tt9916880</td>\n",
       "      <td>nm0996406</td>\n",
       "      <td>nm1482639,nm2586970</td>\n",
       "    </tr>\n",
       "  </tbody>\n",
       "</table>\n",
       "<p>11619558 rows × 3 columns</p>\n",
       "</div>"
      ],
      "text/plain": [
       "             tconst   directors  \\\n",
       "0         tt0000001   nm0005690   \n",
       "1         tt0000002   nm0721526   \n",
       "2         tt0000003   nm0721526   \n",
       "3         tt0000004   nm0721526   \n",
       "4         tt0000005   nm0005690   \n",
       "...             ...         ...   \n",
       "11619553  tt9916848   nm1485677   \n",
       "11619554  tt9916850   nm1485677   \n",
       "11619555  tt9916852   nm1485677   \n",
       "11619556  tt9916856  nm10538645   \n",
       "11619557  tt9916880   nm0996406   \n",
       "\n",
       "                                                    writers  \n",
       "0                                                        \\N  \n",
       "1                                                        \\N  \n",
       "2                                                 nm0721526  \n",
       "3                                                        \\N  \n",
       "4                                                        \\N  \n",
       "...                                                     ...  \n",
       "11619553  nm9187127,nm1485677,nm9826385,nm9299459,nm1628284  \n",
       "11619554            nm9187127,nm1485677,nm9826385,nm1628284  \n",
       "11619555  nm9187127,nm1485677,nm9826385,nm9299459,nm1628284  \n",
       "11619556                                          nm6951431  \n",
       "11619557                                nm1482639,nm2586970  \n",
       "\n",
       "[11619558 rows x 3 columns]"
      ]
     },
     "execution_count": 14,
     "metadata": {},
     "output_type": "execute_result"
    }
   ],
   "source": [
    "df_title_crew = pd.read_csv(link_title_crew, sep=\"\\t\", low_memory=False)\n",
    "df_title_crew"
   ]
  },
  {
   "cell_type": "code",
   "execution_count": 16,
   "id": "40e0edbc",
   "metadata": {},
   "outputs": [
    {
     "data": {
      "application/vnd.microsoft.datawrangler.viewer.v0+json": {
       "columns": [
        {
         "name": "index",
         "rawType": "int64",
         "type": "integer"
        },
        {
         "name": "tconst",
         "rawType": "object",
         "type": "string"
        },
        {
         "name": "parentTconst",
         "rawType": "object",
         "type": "string"
        },
        {
         "name": "seasonNumber",
         "rawType": "object",
         "type": "string"
        },
        {
         "name": "episodeNumber",
         "rawType": "object",
         "type": "string"
        }
       ],
       "conversionMethod": "pd.DataFrame",
       "ref": "e31f0ad6-856f-4c51-afde-ad585835a7f2",
       "rows": [
        [
         "0",
         "tt0031458",
         "tt32857063",
         "\\N",
         "\\N"
        ],
        [
         "1",
         "tt0041951",
         "tt0041038",
         "1",
         "9"
        ],
        [
         "2",
         "tt0042816",
         "tt0989125",
         "1",
         "17"
        ],
        [
         "3",
         "tt0042889",
         "tt0989125",
         "\\N",
         "\\N"
        ],
        [
         "4",
         "tt0043426",
         "tt0040051",
         "3",
         "42"
        ],
        [
         "5",
         "tt0043631",
         "tt0989125",
         "2",
         "16"
        ],
        [
         "6",
         "tt0043693",
         "tt0989125",
         "2",
         "8"
        ],
        [
         "7",
         "tt0043710",
         "tt0989125",
         "3",
         "3"
        ],
        [
         "8",
         "tt0044093",
         "tt0959862",
         "1",
         "6"
        ],
        [
         "9",
         "tt0044668",
         "tt0044243",
         "2",
         "16"
        ],
        [
         "10",
         "tt0044901",
         "tt0989125",
         "3",
         "46"
        ],
        [
         "11",
         "tt0045519",
         "tt0989125",
         "4",
         "11"
        ],
        [
         "12",
         "tt0045960",
         "tt0044284",
         "2",
         "3"
        ],
        [
         "13",
         "tt0046135",
         "tt0989125",
         "4",
         "5"
        ],
        [
         "14",
         "tt0046150",
         "tt0341798",
         "\\N",
         "\\N"
        ],
        [
         "15",
         "tt0046855",
         "tt0046643",
         "1",
         "4"
        ],
        [
         "16",
         "tt0046864",
         "tt0989125",
         "5",
         "20"
        ],
        [
         "17",
         "tt0047810",
         "tt0914702",
         "3",
         "36"
        ],
        [
         "18",
         "tt0047852",
         "tt0047745",
         "1",
         "15"
        ],
        [
         "19",
         "tt0047858",
         "tt0046637",
         "2",
         "9"
        ],
        [
         "20",
         "tt0047961",
         "tt0989125",
         "6",
         "5"
        ],
        [
         "21",
         "tt0048067",
         "tt0046587",
         "2",
         "20"
        ],
        [
         "22",
         "tt0048302",
         "tt0047768",
         "1",
         "6"
        ],
        [
         "23",
         "tt0048371",
         "tt0989125",
         "6",
         "11"
        ],
        [
         "24",
         "tt0048378",
         "tt0047702",
         "1",
         "6"
        ],
        [
         "25",
         "tt0048462",
         "tt0047702",
         "1",
         "3"
        ],
        [
         "26",
         "tt0048562",
         "tt0047768",
         "1",
         "10"
        ],
        [
         "27",
         "tt0048883",
         "tt0989125",
         "6",
         "42"
        ],
        [
         "28",
         "tt0049025",
         "tt0047720",
         "1",
         "4"
        ],
        [
         "29",
         "tt0049473",
         "tt0046593",
         "1",
         "20"
        ],
        [
         "30",
         "tt0049572",
         "tt0914702",
         "1",
         "30"
        ],
        [
         "31",
         "tt0049585",
         "tt0047720",
         "1",
         "5"
        ],
        [
         "32",
         "tt0049669",
         "tt0048893",
         "1",
         "2"
        ],
        [
         "33",
         "tt0050031",
         "tt0050013",
         "1",
         "4"
        ],
        [
         "34",
         "tt0050259",
         "tt0048893",
         "1",
         "20"
        ],
        [
         "35",
         "tt0050318",
         "tt0046593",
         "4",
         "1"
        ],
        [
         "36",
         "tt0050320",
         "tt0914702",
         "3",
         "39"
        ],
        [
         "37",
         "tt0050641",
         "tt4280482",
         "1",
         "1"
        ],
        [
         "38",
         "tt0050678",
         "tt0161126",
         "2",
         "11"
        ],
        [
         "39",
         "tt0050695",
         "tt0046637",
         "3",
         "6"
        ],
        [
         "40",
         "tt0050988",
         "tt0048893",
         "1",
         "16"
        ],
        [
         "41",
         "tt0051344",
         "tt0050013",
         "1",
         "6"
        ],
        [
         "42",
         "tt0051523",
         "tt0048893",
         "3",
         "2"
        ],
        [
         "43",
         "tt0051625",
         "tt0048893",
         "2",
         "15"
        ],
        [
         "44",
         "tt0051680",
         "tt0161126",
         "3",
         "9"
        ],
        [
         "45",
         "tt0051763",
         "tt0453991",
         "1",
         "8"
        ],
        [
         "46",
         "tt0051929",
         "tt0989125",
         "9",
         "45"
        ],
        [
         "47",
         "tt0052128",
         "tt0441950",
         "4",
         "2"
        ],
        [
         "48",
         "tt0052236",
         "tt0793361",
         "1",
         "2"
        ],
        [
         "49",
         "tt0052237",
         "tt0793361",
         "1",
         "5"
        ]
       ],
       "shape": {
        "columns": 4,
        "rows": 100
       }
      },
      "text/html": [
       "<div>\n",
       "<style scoped>\n",
       "    .dataframe tbody tr th:only-of-type {\n",
       "        vertical-align: middle;\n",
       "    }\n",
       "\n",
       "    .dataframe tbody tr th {\n",
       "        vertical-align: top;\n",
       "    }\n",
       "\n",
       "    .dataframe thead th {\n",
       "        text-align: right;\n",
       "    }\n",
       "</style>\n",
       "<table border=\"1\" class=\"dataframe\">\n",
       "  <thead>\n",
       "    <tr style=\"text-align: right;\">\n",
       "      <th></th>\n",
       "      <th>tconst</th>\n",
       "      <th>parentTconst</th>\n",
       "      <th>seasonNumber</th>\n",
       "      <th>episodeNumber</th>\n",
       "    </tr>\n",
       "  </thead>\n",
       "  <tbody>\n",
       "    <tr>\n",
       "      <th>0</th>\n",
       "      <td>tt0031458</td>\n",
       "      <td>tt32857063</td>\n",
       "      <td>\\N</td>\n",
       "      <td>\\N</td>\n",
       "    </tr>\n",
       "    <tr>\n",
       "      <th>1</th>\n",
       "      <td>tt0041951</td>\n",
       "      <td>tt0041038</td>\n",
       "      <td>1</td>\n",
       "      <td>9</td>\n",
       "    </tr>\n",
       "    <tr>\n",
       "      <th>2</th>\n",
       "      <td>tt0042816</td>\n",
       "      <td>tt0989125</td>\n",
       "      <td>1</td>\n",
       "      <td>17</td>\n",
       "    </tr>\n",
       "    <tr>\n",
       "      <th>3</th>\n",
       "      <td>tt0042889</td>\n",
       "      <td>tt0989125</td>\n",
       "      <td>\\N</td>\n",
       "      <td>\\N</td>\n",
       "    </tr>\n",
       "    <tr>\n",
       "      <th>4</th>\n",
       "      <td>tt0043426</td>\n",
       "      <td>tt0040051</td>\n",
       "      <td>3</td>\n",
       "      <td>42</td>\n",
       "    </tr>\n",
       "    <tr>\n",
       "      <th>...</th>\n",
       "      <td>...</td>\n",
       "      <td>...</td>\n",
       "      <td>...</td>\n",
       "      <td>...</td>\n",
       "    </tr>\n",
       "    <tr>\n",
       "      <th>95</th>\n",
       "      <td>tt0055130</td>\n",
       "      <td>tt0190181</td>\n",
       "      <td>2</td>\n",
       "      <td>5</td>\n",
       "    </tr>\n",
       "    <tr>\n",
       "      <th>96</th>\n",
       "      <td>tt0055131</td>\n",
       "      <td>tt0161126</td>\n",
       "      <td>4</td>\n",
       "      <td>27</td>\n",
       "    </tr>\n",
       "    <tr>\n",
       "      <th>97</th>\n",
       "      <td>tt0055132</td>\n",
       "      <td>tt0190181</td>\n",
       "      <td>2</td>\n",
       "      <td>2</td>\n",
       "    </tr>\n",
       "    <tr>\n",
       "      <th>98</th>\n",
       "      <td>tt0055203</td>\n",
       "      <td>tt0161126</td>\n",
       "      <td>4</td>\n",
       "      <td>47</td>\n",
       "    </tr>\n",
       "    <tr>\n",
       "      <th>99</th>\n",
       "      <td>tt0055250</td>\n",
       "      <td>tt0259792</td>\n",
       "      <td>4</td>\n",
       "      <td>20</td>\n",
       "    </tr>\n",
       "  </tbody>\n",
       "</table>\n",
       "<p>100 rows × 4 columns</p>\n",
       "</div>"
      ],
      "text/plain": [
       "       tconst parentTconst seasonNumber episodeNumber\n",
       "0   tt0031458   tt32857063           \\N            \\N\n",
       "1   tt0041951    tt0041038            1             9\n",
       "2   tt0042816    tt0989125            1            17\n",
       "3   tt0042889    tt0989125           \\N            \\N\n",
       "4   tt0043426    tt0040051            3            42\n",
       "..        ...          ...          ...           ...\n",
       "95  tt0055130    tt0190181            2             5\n",
       "96  tt0055131    tt0161126            4            27\n",
       "97  tt0055132    tt0190181            2             2\n",
       "98  tt0055203    tt0161126            4            47\n",
       "99  tt0055250    tt0259792            4            20\n",
       "\n",
       "[100 rows x 4 columns]"
      ]
     },
     "execution_count": 16,
     "metadata": {},
     "output_type": "execute_result"
    }
   ],
   "source": [
    "df_title_episode = pd.read_csv(link_title_episode, chunksize=1000, sep=\"\\t\", low_memory=False)\n",
    "df_title_episode.get_chunk(100)"
   ]
  },
  {
   "cell_type": "code",
   "execution_count": 17,
   "id": "e6069ef4",
   "metadata": {},
   "outputs": [
    {
     "data": {
      "application/vnd.microsoft.datawrangler.viewer.v0+json": {
       "columns": [
        {
         "name": "index",
         "rawType": "int64",
         "type": "integer"
        },
        {
         "name": "tconst",
         "rawType": "object",
         "type": "string"
        },
        {
         "name": "ordering",
         "rawType": "int64",
         "type": "integer"
        },
        {
         "name": "nconst",
         "rawType": "object",
         "type": "string"
        },
        {
         "name": "category",
         "rawType": "object",
         "type": "string"
        },
        {
         "name": "job",
         "rawType": "object",
         "type": "string"
        },
        {
         "name": "characters",
         "rawType": "object",
         "type": "string"
        }
       ],
       "conversionMethod": "pd.DataFrame",
       "ref": "8a993634-80c6-450c-894a-e689b0719d24",
       "rows": [
        [
         "0",
         "tt0000001",
         "1",
         "nm1588970",
         "self",
         "\\N",
         "[\"Self\"]"
        ],
        [
         "1",
         "tt0000001",
         "2",
         "nm0005690",
         "director",
         "\\N",
         "\\N"
        ],
        [
         "2",
         "tt0000001",
         "3",
         "nm0005690",
         "producer",
         "producer",
         "\\N"
        ],
        [
         "3",
         "tt0000001",
         "4",
         "nm0374658",
         "cinematographer",
         "director of photography",
         "\\N"
        ],
        [
         "4",
         "tt0000002",
         "1",
         "nm0721526",
         "director",
         "\\N",
         "\\N"
        ],
        [
         "5",
         "tt0000002",
         "2",
         "nm1335271",
         "composer",
         "\\N",
         "\\N"
        ],
        [
         "6",
         "tt0000003",
         "1",
         "nm0721526",
         "director",
         "\\N",
         "\\N"
        ],
        [
         "7",
         "tt0000003",
         "2",
         "nm0721526",
         "writer",
         "\\N",
         "\\N"
        ],
        [
         "8",
         "tt0000003",
         "3",
         "nm1770680",
         "producer",
         "producer",
         "\\N"
        ],
        [
         "9",
         "tt0000003",
         "4",
         "nm0721526",
         "producer",
         "producer",
         "\\N"
        ],
        [
         "10",
         "tt0000003",
         "5",
         "nm1335271",
         "composer",
         "\\N",
         "\\N"
        ],
        [
         "11",
         "tt0000003",
         "6",
         "nm5442200",
         "editor",
         "editor",
         "\\N"
        ],
        [
         "12",
         "tt0000004",
         "1",
         "nm0721526",
         "director",
         "\\N",
         "\\N"
        ],
        [
         "13",
         "tt0000004",
         "2",
         "nm1335271",
         "composer",
         "\\N",
         "\\N"
        ],
        [
         "14",
         "tt0000005",
         "1",
         "nm0443482",
         "actor",
         "\\N",
         "[\"Blacksmith\"]"
        ],
        [
         "15",
         "tt0000005",
         "2",
         "nm0653042",
         "actor",
         "\\N",
         "[\"Assistant\"]"
        ],
        [
         "16",
         "tt0000005",
         "3",
         "nm0249379",
         "producer",
         "producer",
         "\\N"
        ],
        [
         "17",
         "tt0000007",
         "1",
         "nm0179163",
         "actor",
         "\\N",
         "\\N"
        ],
        [
         "18",
         "tt0000007",
         "2",
         "nm0183947",
         "actor",
         "\\N",
         "\\N"
        ],
        [
         "19",
         "tt0000007",
         "3",
         "nm0005690",
         "director",
         "\\N",
         "\\N"
        ],
        [
         "20",
         "tt0000007",
         "4",
         "nm0374658",
         "director",
         "\\N",
         "\\N"
        ],
        [
         "21",
         "tt0000007",
         "5",
         "nm0005690",
         "producer",
         "producer",
         "\\N"
        ],
        [
         "22",
         "tt0000007",
         "6",
         "nm0249379",
         "producer",
         "producer",
         "\\N"
        ],
        [
         "23",
         "tt0000007",
         "7",
         "nm0374658",
         "cinematographer",
         "\\N",
         "\\N"
        ],
        [
         "24",
         "tt0000008",
         "1",
         "nm0653028",
         "actor",
         "\\N",
         "[\"Sneezing Man\"]"
        ],
        [
         "25",
         "tt0000008",
         "2",
         "nm0005690",
         "director",
         "\\N",
         "\\N"
        ],
        [
         "26",
         "tt0000008",
         "3",
         "nm0005690",
         "producer",
         "producer",
         "\\N"
        ],
        [
         "27",
         "tt0000008",
         "4",
         "nm0374658",
         "cinematographer",
         "\\N",
         "\\N"
        ],
        [
         "28",
         "tt0000009",
         "1",
         "nm0063086",
         "actress",
         "\\N",
         "[\"Miss Geraldine Holbrook (Miss Jerry)\"]"
        ],
        [
         "29",
         "tt0000009",
         "2",
         "nm0183823",
         "actor",
         "\\N",
         "[\"Mr. Hamilton\"]"
        ],
        [
         "30",
         "tt0000009",
         "3",
         "nm1309758",
         "actor",
         "\\N",
         "[\"Chauncey Depew - the Director of the New York Central Railroad\"]"
        ],
        [
         "31",
         "tt0000009",
         "4",
         "nm0085156",
         "director",
         "\\N",
         "\\N"
        ],
        [
         "32",
         "tt0000009",
         "5",
         "nm0085156",
         "writer",
         "\\N",
         "\\N"
        ],
        [
         "33",
         "tt0000009",
         "6",
         "nm0085156",
         "producer",
         "producer",
         "\\N"
        ],
        [
         "34",
         "tt0000009",
         "7",
         "nm0085156",
         "cinematographer",
         "\\N",
         "\\N"
        ],
        [
         "35",
         "tt0000010",
         "1",
         "nm0525910",
         "director",
         "\\N",
         "\\N"
        ],
        [
         "36",
         "tt0000010",
         "2",
         "nm0525910",
         "producer",
         "producer",
         "\\N"
        ],
        [
         "37",
         "tt0000010",
         "3",
         "nm0525910",
         "cinematographer",
         "\\N",
         "\\N"
        ],
        [
         "38",
         "tt0000011",
         "1",
         "nm3692297",
         "actor",
         "\\N",
         "[\"Acrobats\"]"
        ],
        [
         "39",
         "tt0000011",
         "2",
         "nm0804434",
         "director",
         "\\N",
         "\\N"
        ],
        [
         "40",
         "tt0000011",
         "3",
         "nm0804434",
         "producer",
         "producer",
         "\\N"
        ],
        [
         "41",
         "tt0000011",
         "4",
         "nm0804434",
         "cinematographer",
         "\\N",
         "\\N"
        ],
        [
         "42",
         "tt0000012",
         "1",
         "nm2880396",
         "self",
         "\\N",
         "[\"Self\"]"
        ],
        [
         "43",
         "tt0000012",
         "2",
         "nm9735580",
         "self",
         "\\N",
         "[\"Self\"]"
        ],
        [
         "44",
         "tt0000012",
         "3",
         "nm0525900",
         "self",
         "\\N",
         "[\"Self\"]"
        ],
        [
         "45",
         "tt0000012",
         "4",
         "nm9735581",
         "self",
         "\\N",
         "[\"Self\"]"
        ],
        [
         "46",
         "tt0000012",
         "5",
         "nm9735579",
         "self",
         "\\N",
         "[\"Self\"]"
        ],
        [
         "47",
         "tt0000012",
         "6",
         "nm9653419",
         "self",
         "\\N",
         "[\"Self\"]"
        ],
        [
         "48",
         "tt0000012",
         "7",
         "nm0525908",
         "director",
         "\\N",
         "\\N"
        ],
        [
         "49",
         "tt0000012",
         "8",
         "nm0525910",
         "director",
         "\\N",
         "\\N"
        ]
       ],
       "shape": {
        "columns": 6,
        "rows": 100
       }
      },
      "text/html": [
       "<div>\n",
       "<style scoped>\n",
       "    .dataframe tbody tr th:only-of-type {\n",
       "        vertical-align: middle;\n",
       "    }\n",
       "\n",
       "    .dataframe tbody tr th {\n",
       "        vertical-align: top;\n",
       "    }\n",
       "\n",
       "    .dataframe thead th {\n",
       "        text-align: right;\n",
       "    }\n",
       "</style>\n",
       "<table border=\"1\" class=\"dataframe\">\n",
       "  <thead>\n",
       "    <tr style=\"text-align: right;\">\n",
       "      <th></th>\n",
       "      <th>tconst</th>\n",
       "      <th>ordering</th>\n",
       "      <th>nconst</th>\n",
       "      <th>category</th>\n",
       "      <th>job</th>\n",
       "      <th>characters</th>\n",
       "    </tr>\n",
       "  </thead>\n",
       "  <tbody>\n",
       "    <tr>\n",
       "      <th>0</th>\n",
       "      <td>tt0000001</td>\n",
       "      <td>1</td>\n",
       "      <td>nm1588970</td>\n",
       "      <td>self</td>\n",
       "      <td>\\N</td>\n",
       "      <td>[\"Self\"]</td>\n",
       "    </tr>\n",
       "    <tr>\n",
       "      <th>1</th>\n",
       "      <td>tt0000001</td>\n",
       "      <td>2</td>\n",
       "      <td>nm0005690</td>\n",
       "      <td>director</td>\n",
       "      <td>\\N</td>\n",
       "      <td>\\N</td>\n",
       "    </tr>\n",
       "    <tr>\n",
       "      <th>2</th>\n",
       "      <td>tt0000001</td>\n",
       "      <td>3</td>\n",
       "      <td>nm0005690</td>\n",
       "      <td>producer</td>\n",
       "      <td>producer</td>\n",
       "      <td>\\N</td>\n",
       "    </tr>\n",
       "    <tr>\n",
       "      <th>3</th>\n",
       "      <td>tt0000001</td>\n",
       "      <td>4</td>\n",
       "      <td>nm0374658</td>\n",
       "      <td>cinematographer</td>\n",
       "      <td>director of photography</td>\n",
       "      <td>\\N</td>\n",
       "    </tr>\n",
       "    <tr>\n",
       "      <th>4</th>\n",
       "      <td>tt0000002</td>\n",
       "      <td>1</td>\n",
       "      <td>nm0721526</td>\n",
       "      <td>director</td>\n",
       "      <td>\\N</td>\n",
       "      <td>\\N</td>\n",
       "    </tr>\n",
       "    <tr>\n",
       "      <th>...</th>\n",
       "      <td>...</td>\n",
       "      <td>...</td>\n",
       "      <td>...</td>\n",
       "      <td>...</td>\n",
       "      <td>...</td>\n",
       "      <td>...</td>\n",
       "    </tr>\n",
       "    <tr>\n",
       "      <th>95</th>\n",
       "      <td>tt0000024</td>\n",
       "      <td>3</td>\n",
       "      <td>nm0010291</td>\n",
       "      <td>director</td>\n",
       "      <td>\\N</td>\n",
       "      <td>\\N</td>\n",
       "    </tr>\n",
       "    <tr>\n",
       "      <th>96</th>\n",
       "      <td>tt0000024</td>\n",
       "      <td>4</td>\n",
       "      <td>nm0010291</td>\n",
       "      <td>producer</td>\n",
       "      <td>producer</td>\n",
       "      <td>\\N</td>\n",
       "    </tr>\n",
       "    <tr>\n",
       "      <th>97</th>\n",
       "      <td>tt0000024</td>\n",
       "      <td>5</td>\n",
       "      <td>nm0666972</td>\n",
       "      <td>producer</td>\n",
       "      <td>producer</td>\n",
       "      <td>\\N</td>\n",
       "    </tr>\n",
       "    <tr>\n",
       "      <th>98</th>\n",
       "      <td>tt0000024</td>\n",
       "      <td>6</td>\n",
       "      <td>nm0010291</td>\n",
       "      <td>cinematographer</td>\n",
       "      <td>\\N</td>\n",
       "      <td>\\N</td>\n",
       "    </tr>\n",
       "    <tr>\n",
       "      <th>99</th>\n",
       "      <td>tt0000025</td>\n",
       "      <td>1</td>\n",
       "      <td>nm0010291</td>\n",
       "      <td>director</td>\n",
       "      <td>\\N</td>\n",
       "      <td>\\N</td>\n",
       "    </tr>\n",
       "  </tbody>\n",
       "</table>\n",
       "<p>100 rows × 6 columns</p>\n",
       "</div>"
      ],
      "text/plain": [
       "       tconst  ordering     nconst         category                      job  \\\n",
       "0   tt0000001         1  nm1588970             self                       \\N   \n",
       "1   tt0000001         2  nm0005690         director                       \\N   \n",
       "2   tt0000001         3  nm0005690         producer                 producer   \n",
       "3   tt0000001         4  nm0374658  cinematographer  director of photography   \n",
       "4   tt0000002         1  nm0721526         director                       \\N   \n",
       "..        ...       ...        ...              ...                      ...   \n",
       "95  tt0000024         3  nm0010291         director                       \\N   \n",
       "96  tt0000024         4  nm0010291         producer                 producer   \n",
       "97  tt0000024         5  nm0666972         producer                 producer   \n",
       "98  tt0000024         6  nm0010291  cinematographer                       \\N   \n",
       "99  tt0000025         1  nm0010291         director                       \\N   \n",
       "\n",
       "   characters  \n",
       "0    [\"Self\"]  \n",
       "1          \\N  \n",
       "2          \\N  \n",
       "3          \\N  \n",
       "4          \\N  \n",
       "..        ...  \n",
       "95         \\N  \n",
       "96         \\N  \n",
       "97         \\N  \n",
       "98         \\N  \n",
       "99         \\N  \n",
       "\n",
       "[100 rows x 6 columns]"
      ]
     },
     "execution_count": 17,
     "metadata": {},
     "output_type": "execute_result"
    }
   ],
   "source": [
    "df_title_principals = pd.read_csv(link_title_principals, sep=\"\\t\", chunksize=1000, low_memory=False)\n",
    "df_title_principals.get_chunk(100)"
   ]
  },
  {
   "cell_type": "code",
   "execution_count": 18,
   "id": "16b246ef",
   "metadata": {},
   "outputs": [
    {
     "data": {
      "application/vnd.microsoft.datawrangler.viewer.v0+json": {
       "columns": [
        {
         "name": "index",
         "rawType": "int64",
         "type": "integer"
        },
        {
         "name": "tconst",
         "rawType": "object",
         "type": "string"
        },
        {
         "name": "averageRating",
         "rawType": "float64",
         "type": "float"
        },
        {
         "name": "numVotes",
         "rawType": "int64",
         "type": "integer"
        }
       ],
       "conversionMethod": "pd.DataFrame",
       "ref": "da366002-796e-409c-aa8c-52ed1c2e184e",
       "rows": [
        [
         "0",
         "tt0000001",
         "5.7",
         "2153"
        ],
        [
         "1",
         "tt0000002",
         "5.5",
         "292"
        ],
        [
         "2",
         "tt0000003",
         "6.5",
         "2189"
        ],
        [
         "3",
         "tt0000004",
         "5.3",
         "187"
        ],
        [
         "4",
         "tt0000005",
         "6.2",
         "2936"
        ],
        [
         "5",
         "tt0000006",
         "5.0",
         "210"
        ],
        [
         "6",
         "tt0000007",
         "5.3",
         "908"
        ],
        [
         "7",
         "tt0000008",
         "5.4",
         "2294"
        ],
        [
         "8",
         "tt0000009",
         "5.4",
         "222"
        ],
        [
         "9",
         "tt0000010",
         "6.8",
         "7947"
        ],
        [
         "10",
         "tt0000011",
         "5.2",
         "418"
        ],
        [
         "11",
         "tt0000012",
         "7.4",
         "13467"
        ],
        [
         "12",
         "tt0000013",
         "5.7",
         "2066"
        ],
        [
         "13",
         "tt0000014",
         "7.1",
         "6156"
        ],
        [
         "14",
         "tt0000015",
         "6.1",
         "1275"
        ],
        [
         "15",
         "tt0000016",
         "5.9",
         "1658"
        ],
        [
         "16",
         "tt0000017",
         "4.6",
         "379"
        ],
        [
         "17",
         "tt0000018",
         "5.2",
         "662"
        ],
        [
         "18",
         "tt0000019",
         "5.2",
         "34"
        ],
        [
         "19",
         "tt0000020",
         "4.7",
         "411"
        ],
        [
         "20",
         "tt0000022",
         "5.1",
         "1212"
        ],
        [
         "21",
         "tt0000023",
         "5.7",
         "1586"
        ],
        [
         "22",
         "tt0000024",
         "3.7",
         "159"
        ],
        [
         "23",
         "tt0000025",
         "4.2",
         "50"
        ],
        [
         "24",
         "tt0000026",
         "5.6",
         "1676"
        ],
        [
         "25",
         "tt0000027",
         "5.6",
         "1271"
        ],
        [
         "26",
         "tt0000028",
         "5.1",
         "1198"
        ],
        [
         "27",
         "tt0000029",
         "5.9",
         "3680"
        ],
        [
         "28",
         "tt0000030",
         "5.2",
         "961"
        ],
        [
         "29",
         "tt0000031",
         "5.5",
         "1096"
        ],
        [
         "30",
         "tt0000032",
         "4.9",
         "461"
        ],
        [
         "31",
         "tt0000033",
         "5.5",
         "1133"
        ],
        [
         "32",
         "tt0000034",
         "4.8",
         "253"
        ],
        [
         "33",
         "tt0000035",
         "5.5",
         "87"
        ],
        [
         "34",
         "tt0000036",
         "4.4",
         "653"
        ],
        [
         "35",
         "tt0000037",
         "4.5",
         "79"
        ],
        [
         "36",
         "tt0000038",
         "4.1",
         "233"
        ],
        [
         "37",
         "tt0000039",
         "3.7",
         "36"
        ],
        [
         "38",
         "tt0000040",
         "4.2",
         "82"
        ],
        [
         "39",
         "tt0000041",
         "6.7",
         "2117"
        ],
        [
         "40",
         "tt0000042",
         "4.2",
         "41"
        ],
        [
         "41",
         "tt0000043",
         "3.5",
         "35"
        ],
        [
         "42",
         "tt0000044",
         "4.0",
         "56"
        ],
        [
         "43",
         "tt0000045",
         "4.0",
         "36"
        ],
        [
         "44",
         "tt0000046",
         "4.1",
         "41"
        ],
        [
         "45",
         "tt0000047",
         "3.6",
         "41"
        ],
        [
         "46",
         "tt0000048",
         "4.7",
         "233"
        ],
        [
         "47",
         "tt0000049",
         "4.8",
         "56"
        ],
        [
         "48",
         "tt0000050",
         "4.1",
         "37"
        ],
        [
         "49",
         "tt0000051",
         "3.6",
         "38"
        ]
       ],
       "shape": {
        "columns": 3,
        "rows": 100
       }
      },
      "text/html": [
       "<div>\n",
       "<style scoped>\n",
       "    .dataframe tbody tr th:only-of-type {\n",
       "        vertical-align: middle;\n",
       "    }\n",
       "\n",
       "    .dataframe tbody tr th {\n",
       "        vertical-align: top;\n",
       "    }\n",
       "\n",
       "    .dataframe thead th {\n",
       "        text-align: right;\n",
       "    }\n",
       "</style>\n",
       "<table border=\"1\" class=\"dataframe\">\n",
       "  <thead>\n",
       "    <tr style=\"text-align: right;\">\n",
       "      <th></th>\n",
       "      <th>tconst</th>\n",
       "      <th>averageRating</th>\n",
       "      <th>numVotes</th>\n",
       "    </tr>\n",
       "  </thead>\n",
       "  <tbody>\n",
       "    <tr>\n",
       "      <th>0</th>\n",
       "      <td>tt0000001</td>\n",
       "      <td>5.7</td>\n",
       "      <td>2153</td>\n",
       "    </tr>\n",
       "    <tr>\n",
       "      <th>1</th>\n",
       "      <td>tt0000002</td>\n",
       "      <td>5.5</td>\n",
       "      <td>292</td>\n",
       "    </tr>\n",
       "    <tr>\n",
       "      <th>2</th>\n",
       "      <td>tt0000003</td>\n",
       "      <td>6.5</td>\n",
       "      <td>2189</td>\n",
       "    </tr>\n",
       "    <tr>\n",
       "      <th>3</th>\n",
       "      <td>tt0000004</td>\n",
       "      <td>5.3</td>\n",
       "      <td>187</td>\n",
       "    </tr>\n",
       "    <tr>\n",
       "      <th>4</th>\n",
       "      <td>tt0000005</td>\n",
       "      <td>6.2</td>\n",
       "      <td>2936</td>\n",
       "    </tr>\n",
       "    <tr>\n",
       "      <th>...</th>\n",
       "      <td>...</td>\n",
       "      <td>...</td>\n",
       "      <td>...</td>\n",
       "    </tr>\n",
       "    <tr>\n",
       "      <th>95</th>\n",
       "      <td>tt0000097</td>\n",
       "      <td>4.9</td>\n",
       "      <td>36</td>\n",
       "    </tr>\n",
       "    <tr>\n",
       "      <th>96</th>\n",
       "      <td>tt0000098</td>\n",
       "      <td>5.3</td>\n",
       "      <td>39</td>\n",
       "    </tr>\n",
       "    <tr>\n",
       "      <th>97</th>\n",
       "      <td>tt0000099</td>\n",
       "      <td>4.7</td>\n",
       "      <td>35</td>\n",
       "    </tr>\n",
       "    <tr>\n",
       "      <th>98</th>\n",
       "      <td>tt0000100</td>\n",
       "      <td>4.7</td>\n",
       "      <td>65</td>\n",
       "    </tr>\n",
       "    <tr>\n",
       "      <th>99</th>\n",
       "      <td>tt0000101</td>\n",
       "      <td>4.6</td>\n",
       "      <td>31</td>\n",
       "    </tr>\n",
       "  </tbody>\n",
       "</table>\n",
       "<p>100 rows × 3 columns</p>\n",
       "</div>"
      ],
      "text/plain": [
       "       tconst  averageRating  numVotes\n",
       "0   tt0000001            5.7      2153\n",
       "1   tt0000002            5.5       292\n",
       "2   tt0000003            6.5      2189\n",
       "3   tt0000004            5.3       187\n",
       "4   tt0000005            6.2      2936\n",
       "..        ...            ...       ...\n",
       "95  tt0000097            4.9        36\n",
       "96  tt0000098            5.3        39\n",
       "97  tt0000099            4.7        35\n",
       "98  tt0000100            4.7        65\n",
       "99  tt0000101            4.6        31\n",
       "\n",
       "[100 rows x 3 columns]"
      ]
     },
     "execution_count": 18,
     "metadata": {},
     "output_type": "execute_result"
    }
   ],
   "source": [
    "df_title_ratings = pd.read_csv(link_title_ratings, sep=\"\\t\", chunksize=1000, low_memory=False)\n",
    "df_title_ratings.get_chunk(100)"
   ]
  },
  {
   "cell_type": "code",
   "execution_count": 19,
   "id": "c27c5e19",
   "metadata": {},
   "outputs": [
    {
     "data": {
      "application/vnd.microsoft.datawrangler.viewer.v0+json": {
       "columns": [
        {
         "name": "index",
         "rawType": "int64",
         "type": "integer"
        },
        {
         "name": "nconst",
         "rawType": "object",
         "type": "string"
        },
        {
         "name": "primaryName",
         "rawType": "object",
         "type": "string"
        },
        {
         "name": "birthYear",
         "rawType": "object",
         "type": "string"
        },
        {
         "name": "deathYear",
         "rawType": "object",
         "type": "string"
        },
        {
         "name": "primaryProfession",
         "rawType": "object",
         "type": "string"
        },
        {
         "name": "knownForTitles",
         "rawType": "object",
         "type": "string"
        }
       ],
       "conversionMethod": "pd.DataFrame",
       "ref": "19fd3134-e283-4240-8af2-9252061dc2eb",
       "rows": [
        [
         "0",
         "nm0000001",
         "Fred Astaire",
         "1899",
         "1987",
         "actor,miscellaneous,producer",
         "tt0072308,tt0050419,tt0027125,tt0031983"
        ],
        [
         "1",
         "nm0000002",
         "Lauren Bacall",
         "1924",
         "2014",
         "actress,soundtrack,archive_footage",
         "tt0037382,tt0075213,tt0117057,tt0038355"
        ],
        [
         "2",
         "nm0000003",
         "Brigitte Bardot",
         "1934",
         "\\N",
         "actress,music_department,producer",
         "tt0057345,tt0049189,tt0056404,tt0054452"
        ],
        [
         "3",
         "nm0000004",
         "John Belushi",
         "1949",
         "1982",
         "actor,writer,music_department",
         "tt0072562,tt0077975,tt0080455,tt0078723"
        ],
        [
         "4",
         "nm0000005",
         "Ingmar Bergman",
         "1918",
         "2007",
         "writer,director,actor",
         "tt0050986,tt0069467,tt0050976,tt0083922"
        ],
        [
         "5",
         "nm0000006",
         "Ingrid Bergman",
         "1915",
         "1982",
         "actress,producer,soundtrack",
         "tt0034583,tt0038109,tt0036855,tt0038787"
        ],
        [
         "6",
         "nm0000007",
         "Humphrey Bogart",
         "1899",
         "1957",
         "actor,producer,miscellaneous",
         "tt0034583,tt0043265,tt0033870,tt0037382"
        ],
        [
         "7",
         "nm0000008",
         "Marlon Brando",
         "1924",
         "2004",
         "actor,director,writer",
         "tt0078788,tt0068646,tt0047296,tt0070849"
        ],
        [
         "8",
         "nm0000009",
         "Richard Burton",
         "1925",
         "1984",
         "actor,producer,director",
         "tt0061184,tt0087803,tt0059749,tt0057877"
        ],
        [
         "9",
         "nm0000010",
         "James Cagney",
         "1899",
         "1986",
         "actor,director,producer",
         "tt0029870,tt0031867,tt0042041,tt0034236"
        ],
        [
         "10",
         "nm0000011",
         "Gary Cooper",
         "1901",
         "1961",
         "actor,stunts,producer",
         "tt0044706,tt0034167,tt0027996,tt0033373"
        ],
        [
         "11",
         "nm0000012",
         "Bette Davis",
         "1908",
         "1989",
         "actress,make_up_department,producer",
         "tt0042192,tt0056687,tt0031210,tt0035140"
        ],
        [
         "12",
         "nm0000013",
         "Doris Day",
         "1922",
         "2019",
         "actress,producer,miscellaneous",
         "tt0048317,tt0045591,tt0053172,tt0040745"
        ],
        [
         "13",
         "nm0000014",
         "Olivia de Havilland",
         "1916",
         "2020",
         "actress,soundtrack,archive_footage",
         "tt0031381,tt0041452,tt0029843,tt0040806"
        ],
        [
         "14",
         "nm0000015",
         "James Dean",
         "1931",
         "1955",
         "actor,miscellaneous,archive_footage",
         "tt0048028,tt0048545,tt0049261,tt0039123"
        ],
        [
         "15",
         "nm0000016",
         "Georges Delerue",
         "1925",
         "1992",
         "composer,music_department,actor",
         "tt0091763,tt0096320,tt0069946,tt0079477"
        ],
        [
         "16",
         "nm0000017",
         "Marlene Dietrich",
         "1901",
         "1992",
         "actress,music_department,soundtrack",
         "tt0051201,tt0021156,tt0055031,tt0052311"
        ],
        [
         "17",
         "nm0000018",
         "Kirk Douglas",
         "1916",
         "2020",
         "actor,producer,director",
         "tt0043338,tt0080736,tt0054331,tt0049456"
        ],
        [
         "18",
         "nm0000019",
         "Federico Fellini",
         "1920",
         "1993",
         "writer,director,actor",
         "tt0056801,tt0050783,tt0053779,tt0047528"
        ],
        [
         "19",
         "nm0000020",
         "Henry Fonda",
         "1905",
         "1982",
         "actor,producer,miscellaneous",
         "tt0050083,tt0082846,tt0032551,tt0033804"
        ],
        [
         "20",
         "nm0000021",
         "Joan Fontaine",
         "1917",
         "2013",
         "actress,producer,soundtrack",
         "tt0032976,tt0034248,tt0036969,tt0039504"
        ],
        [
         "21",
         "nm0000022",
         "Clark Gable",
         "1901",
         "1960",
         "actor,producer,soundtrack",
         "tt0025316,tt0031381,tt0023382,tt0026752"
        ],
        [
         "22",
         "nm0000023",
         "Judy Garland",
         "1922",
         "1969",
         "actress,soundtrack,archive_footage",
         "tt0032138,tt0037059,tt0047522,tt0055031"
        ],
        [
         "23",
         "nm0000024",
         "John Gielgud",
         "1904",
         "2000",
         "actor,director,writer",
         "tt0082031,tt0071877,tt0045943,tt0028231"
        ],
        [
         "24",
         "nm0000025",
         "Jerry Goldsmith",
         "1929",
         "2004",
         "music_department,composer,miscellaneous",
         "tt0119488,tt0077269,tt0117731,tt0112715"
        ],
        [
         "25",
         "nm0000026",
         "Cary Grant",
         "1904",
         "1986",
         "actor,producer,soundtrack",
         "tt0036613,tt0032904,tt0032599,tt0056923"
        ],
        [
         "26",
         "nm0000027",
         "Alec Guinness",
         "1914",
         "2000",
         "actor,writer,soundtrack",
         "tt0076759,tt0050212,tt0041546,tt0051739"
        ],
        [
         "27",
         "nm0000028",
         "Rita Hayworth",
         "1918",
         "1987",
         "actress,producer,soundtrack",
         "tt0038559,tt0040525,tt0040552,tt0035103"
        ],
        [
         "28",
         "nm0000029",
         "Margaux Hemingway",
         "1954",
         "1996",
         "actress,miscellaneous,archive_footage",
         "tt0077800,tt0102122,tt0110138,tt0074802"
        ],
        [
         "29",
         "nm0000030",
         "Audrey Hepburn",
         "1929",
         "1993",
         "actress,soundtrack,archive_footage",
         "tt0054698,tt0046250,tt0058385,tt0056923"
        ],
        [
         "30",
         "nm0000031",
         "Katharine Hepburn",
         "1907",
         "2003",
         "actress,writer,soundtrack",
         "tt0043265,tt0032904,tt0063227,tt0082846"
        ],
        [
         "31",
         "nm0000032",
         "Charlton Heston",
         "1923",
         "2008",
         "actor,director,writer",
         "tt0052618,tt0049833,tt0067525,tt0070723"
        ],
        [
         "32",
         "nm0000033",
         "Alfred Hitchcock",
         "1899",
         "1980",
         "director,producer,writer",
         "tt0054215,tt0052357,tt0053125,tt0034248"
        ],
        [
         "33",
         "nm0000034",
         "William Holden",
         "1918",
         "1981",
         "actor,miscellaneous,soundtrack",
         "tt0046359,tt0047437,tt0043014,tt0074958"
        ],
        [
         "34",
         "nm0000035",
         "James Horner",
         "1953",
         "2015",
         "music_department,composer,actor",
         "tt0120338,tt0499549,tt0120746,tt0177971"
        ],
        [
         "35",
         "nm0000036",
         "Buster Keaton",
         "1895",
         "1966",
         "actor,writer,director",
         "tt0017925,tt0015163,tt0015324,tt0016332"
        ],
        [
         "36",
         "nm0000037",
         "Gene Kelly",
         "1912",
         "1996",
         "actor,miscellaneous,director",
         "tt0045152,tt0043278,tt0041716,tt0053946"
        ],
        [
         "37",
         "nm0000038",
         "Grace Kelly",
         "1929",
         "1982",
         "actress,producer,soundtrack",
         "tt0046912,tt0047396,tt0048728,tt0046874"
        ],
        [
         "38",
         "nm0000039",
         "Deborah Kerr",
         "1921",
         "2007",
         "actress,soundtrack,archive_footage",
         "tt0049408,tt0045793,tt0039192,tt0050105"
        ],
        [
         "39",
         "nm0000040",
         "Stanley Kubrick",
         "1928",
         "1999",
         "writer,director,producer",
         "tt0062622,tt0072684,tt0066921,tt0093058"
        ],
        [
         "40",
         "nm0000041",
         "Akira Kurosawa",
         "1910",
         "1998",
         "writer,director,assistant_director",
         "tt0089881,tt0051808,tt0080979,tt0057565"
        ],
        [
         "41",
         "nm0000042",
         "Alan Ladd",
         "1913",
         "1964",
         "actor,producer,camera_department",
         "tt0046303,tt0035432,tt0034798,tt0038369"
        ],
        [
         "42",
         "nm0000043",
         "Veronica Lake",
         "1922",
         "1973",
         "actress,producer,soundtrack",
         "tt0034240,tt0038369,tt0035432,tt0034881"
        ],
        [
         "43",
         "nm0000044",
         "Burt Lancaster",
         "1913",
         "1994",
         "actor,producer,miscellaneous",
         "tt0045793,tt0085859,tt0040823,tt0051036"
        ],
        [
         "44",
         "nm0000045",
         "Bruce Lee",
         "1940",
         "1973",
         "actor,writer,miscellaneous",
         "tt0068767,tt0068935,tt0070034,tt0067824"
        ],
        [
         "45",
         "nm0000046",
         "Vivien Leigh",
         "1913",
         "1967",
         "actress,writer,soundtrack",
         "tt0044081,tt0031381,tt0033238,tt0034272"
        ],
        [
         "46",
         "nm0000047",
         "Sophia Loren",
         "1934",
         "\\N",
         "actress,soundtrack,archive_footage",
         "tt0054749,tt0060121,tt0058335,tt0076085"
        ],
        [
         "47",
         "nm0000048",
         "Peter Lorre",
         "1904",
         "1964",
         "actor,writer,director",
         "tt0036613,tt0022100,tt0033870,tt0034583"
        ],
        [
         "48",
         "nm0000049",
         "Henry Mancini",
         "1924",
         "1994",
         "music_department,composer,actor",
         "tt0054698,tt0085101,tt0383216,tt0057413"
        ],
        [
         "49",
         "nm0000050",
         "Groucho Marx",
         "1890",
         "1977",
         "actor,writer,director",
         "tt0026778,tt0031060,tt0023027,tt0023969"
        ]
       ],
       "shape": {
        "columns": 6,
        "rows": 100
       }
      },
      "text/html": [
       "<div>\n",
       "<style scoped>\n",
       "    .dataframe tbody tr th:only-of-type {\n",
       "        vertical-align: middle;\n",
       "    }\n",
       "\n",
       "    .dataframe tbody tr th {\n",
       "        vertical-align: top;\n",
       "    }\n",
       "\n",
       "    .dataframe thead th {\n",
       "        text-align: right;\n",
       "    }\n",
       "</style>\n",
       "<table border=\"1\" class=\"dataframe\">\n",
       "  <thead>\n",
       "    <tr style=\"text-align: right;\">\n",
       "      <th></th>\n",
       "      <th>nconst</th>\n",
       "      <th>primaryName</th>\n",
       "      <th>birthYear</th>\n",
       "      <th>deathYear</th>\n",
       "      <th>primaryProfession</th>\n",
       "      <th>knownForTitles</th>\n",
       "    </tr>\n",
       "  </thead>\n",
       "  <tbody>\n",
       "    <tr>\n",
       "      <th>0</th>\n",
       "      <td>nm0000001</td>\n",
       "      <td>Fred Astaire</td>\n",
       "      <td>1899</td>\n",
       "      <td>1987</td>\n",
       "      <td>actor,miscellaneous,producer</td>\n",
       "      <td>tt0072308,tt0050419,tt0027125,tt0031983</td>\n",
       "    </tr>\n",
       "    <tr>\n",
       "      <th>1</th>\n",
       "      <td>nm0000002</td>\n",
       "      <td>Lauren Bacall</td>\n",
       "      <td>1924</td>\n",
       "      <td>2014</td>\n",
       "      <td>actress,soundtrack,archive_footage</td>\n",
       "      <td>tt0037382,tt0075213,tt0117057,tt0038355</td>\n",
       "    </tr>\n",
       "    <tr>\n",
       "      <th>2</th>\n",
       "      <td>nm0000003</td>\n",
       "      <td>Brigitte Bardot</td>\n",
       "      <td>1934</td>\n",
       "      <td>\\N</td>\n",
       "      <td>actress,music_department,producer</td>\n",
       "      <td>tt0057345,tt0049189,tt0056404,tt0054452</td>\n",
       "    </tr>\n",
       "    <tr>\n",
       "      <th>3</th>\n",
       "      <td>nm0000004</td>\n",
       "      <td>John Belushi</td>\n",
       "      <td>1949</td>\n",
       "      <td>1982</td>\n",
       "      <td>actor,writer,music_department</td>\n",
       "      <td>tt0072562,tt0077975,tt0080455,tt0078723</td>\n",
       "    </tr>\n",
       "    <tr>\n",
       "      <th>4</th>\n",
       "      <td>nm0000005</td>\n",
       "      <td>Ingmar Bergman</td>\n",
       "      <td>1918</td>\n",
       "      <td>2007</td>\n",
       "      <td>writer,director,actor</td>\n",
       "      <td>tt0050986,tt0069467,tt0050976,tt0083922</td>\n",
       "    </tr>\n",
       "    <tr>\n",
       "      <th>...</th>\n",
       "      <td>...</td>\n",
       "      <td>...</td>\n",
       "      <td>...</td>\n",
       "      <td>...</td>\n",
       "      <td>...</td>\n",
       "      <td>...</td>\n",
       "    </tr>\n",
       "    <tr>\n",
       "      <th>95</th>\n",
       "      <td>nm0000096</td>\n",
       "      <td>Gillian Anderson</td>\n",
       "      <td>1968</td>\n",
       "      <td>\\N</td>\n",
       "      <td>actress,producer,director</td>\n",
       "      <td>tt0106179,tt2294189,tt0455590,tt0442632</td>\n",
       "    </tr>\n",
       "    <tr>\n",
       "      <th>96</th>\n",
       "      <td>nm0000097</td>\n",
       "      <td>Pamela Anderson</td>\n",
       "      <td>1967</td>\n",
       "      <td>\\N</td>\n",
       "      <td>actress,producer,director</td>\n",
       "      <td>tt31193791,tt0096542,tt18376122,tt0101120</td>\n",
       "    </tr>\n",
       "    <tr>\n",
       "      <th>97</th>\n",
       "      <td>nm0000098</td>\n",
       "      <td>Jennifer Aniston</td>\n",
       "      <td>1969</td>\n",
       "      <td>\\N</td>\n",
       "      <td>actress,producer,director</td>\n",
       "      <td>tt0108778,tt3442006,tt1723121,tt0279113</td>\n",
       "    </tr>\n",
       "    <tr>\n",
       "      <th>98</th>\n",
       "      <td>nm0000099</td>\n",
       "      <td>Patricia Arquette</td>\n",
       "      <td>1968</td>\n",
       "      <td>\\N</td>\n",
       "      <td>actress,producer,director</td>\n",
       "      <td>tt0108399,tt1065073,tt0412175,tt0145531</td>\n",
       "    </tr>\n",
       "    <tr>\n",
       "      <th>99</th>\n",
       "      <td>nm0000100</td>\n",
       "      <td>Rowan Atkinson</td>\n",
       "      <td>1955</td>\n",
       "      <td>\\N</td>\n",
       "      <td>actor,writer,producer</td>\n",
       "      <td>tt0274166,tt1634122,tt0110357,tt0118689</td>\n",
       "    </tr>\n",
       "  </tbody>\n",
       "</table>\n",
       "<p>100 rows × 6 columns</p>\n",
       "</div>"
      ],
      "text/plain": [
       "       nconst        primaryName birthYear deathYear  \\\n",
       "0   nm0000001       Fred Astaire      1899      1987   \n",
       "1   nm0000002      Lauren Bacall      1924      2014   \n",
       "2   nm0000003    Brigitte Bardot      1934        \\N   \n",
       "3   nm0000004       John Belushi      1949      1982   \n",
       "4   nm0000005     Ingmar Bergman      1918      2007   \n",
       "..        ...                ...       ...       ...   \n",
       "95  nm0000096   Gillian Anderson      1968        \\N   \n",
       "96  nm0000097    Pamela Anderson      1967        \\N   \n",
       "97  nm0000098   Jennifer Aniston      1969        \\N   \n",
       "98  nm0000099  Patricia Arquette      1968        \\N   \n",
       "99  nm0000100     Rowan Atkinson      1955        \\N   \n",
       "\n",
       "                     primaryProfession  \\\n",
       "0         actor,miscellaneous,producer   \n",
       "1   actress,soundtrack,archive_footage   \n",
       "2    actress,music_department,producer   \n",
       "3        actor,writer,music_department   \n",
       "4                writer,director,actor   \n",
       "..                                 ...   \n",
       "95           actress,producer,director   \n",
       "96           actress,producer,director   \n",
       "97           actress,producer,director   \n",
       "98           actress,producer,director   \n",
       "99               actor,writer,producer   \n",
       "\n",
       "                               knownForTitles  \n",
       "0     tt0072308,tt0050419,tt0027125,tt0031983  \n",
       "1     tt0037382,tt0075213,tt0117057,tt0038355  \n",
       "2     tt0057345,tt0049189,tt0056404,tt0054452  \n",
       "3     tt0072562,tt0077975,tt0080455,tt0078723  \n",
       "4     tt0050986,tt0069467,tt0050976,tt0083922  \n",
       "..                                        ...  \n",
       "95    tt0106179,tt2294189,tt0455590,tt0442632  \n",
       "96  tt31193791,tt0096542,tt18376122,tt0101120  \n",
       "97    tt0108778,tt3442006,tt1723121,tt0279113  \n",
       "98    tt0108399,tt1065073,tt0412175,tt0145531  \n",
       "99    tt0274166,tt1634122,tt0110357,tt0118689  \n",
       "\n",
       "[100 rows x 6 columns]"
      ]
     },
     "execution_count": 19,
     "metadata": {},
     "output_type": "execute_result"
    }
   ],
   "source": [
    "df_name_basics = pd.read_csv(link_name_basics, sep=\"\\t\", chunksize=1000, low_memory=False)\n",
    "df_name_basics.get_chunk(100)"
   ]
  },
  {
   "cell_type": "code",
   "execution_count": 24,
   "id": "cc5cfaf6",
   "metadata": {},
   "outputs": [
    {
     "data": {
      "application/vnd.microsoft.datawrangler.viewer.v0+json": {
       "columns": [
        {
         "name": "index",
         "rawType": "int64",
         "type": "integer"
        },
        {
         "name": "adult",
         "rawType": "bool",
         "type": "boolean"
        },
        {
         "name": "backdrop_path",
         "rawType": "object",
         "type": "unknown"
        },
        {
         "name": "budget",
         "rawType": "int64",
         "type": "integer"
        },
        {
         "name": "genres",
         "rawType": "object",
         "type": "string"
        },
        {
         "name": "homepage",
         "rawType": "object",
         "type": "unknown"
        },
        {
         "name": "id",
         "rawType": "int64",
         "type": "integer"
        },
        {
         "name": "imdb_id",
         "rawType": "object",
         "type": "string"
        },
        {
         "name": "original_language",
         "rawType": "object",
         "type": "string"
        },
        {
         "name": "original_title",
         "rawType": "object",
         "type": "string"
        },
        {
         "name": "overview",
         "rawType": "object",
         "type": "unknown"
        },
        {
         "name": "popularity",
         "rawType": "float64",
         "type": "float"
        },
        {
         "name": "poster_path",
         "rawType": "object",
         "type": "string"
        },
        {
         "name": "production_countries",
         "rawType": "object",
         "type": "string"
        },
        {
         "name": "release_date",
         "rawType": "object",
         "type": "string"
        },
        {
         "name": "revenue",
         "rawType": "int64",
         "type": "integer"
        },
        {
         "name": "runtime",
         "rawType": "int64",
         "type": "integer"
        },
        {
         "name": "spoken_languages",
         "rawType": "object",
         "type": "string"
        },
        {
         "name": "status",
         "rawType": "object",
         "type": "string"
        },
        {
         "name": "tagline",
         "rawType": "object",
         "type": "unknown"
        },
        {
         "name": "title",
         "rawType": "object",
         "type": "string"
        },
        {
         "name": "video",
         "rawType": "bool",
         "type": "boolean"
        },
        {
         "name": "vote_average",
         "rawType": "float64",
         "type": "float"
        },
        {
         "name": "vote_count",
         "rawType": "int64",
         "type": "integer"
        },
        {
         "name": "production_companies_name",
         "rawType": "object",
         "type": "string"
        },
        {
         "name": "production_companies_country",
         "rawType": "object",
         "type": "string"
        }
       ],
       "conversionMethod": "pd.DataFrame",
       "ref": "422e89be-071d-4e21-9087-5a507a553e04",
       "rows": [
        [
         "0",
         "False",
         "/dvQj1GBZAZirz1skEEZyWH2ZqQP.jpg",
         "0",
         "['Comedy']",
         null,
         "3924",
         "tt0029927",
         "en",
         "Blondie",
         "Blondie and Dagwood are about to celebrate their fifth wedding anniversary but this happy occasion is marred when the bumbling Dagwood gets himself involved in a scheme that is promising financial ruin for the Bumstead family.",
         "2.852",
         "/zBiHKhXklvTFwj4M1uEUcQGAVJ.jpg",
         "['US']",
         "1938-11-30",
         "0",
         "70",
         "['en']",
         "Released",
         "The favorite comic strip of millions at last on the screen!",
         "Blondie",
         "False",
         "7.214",
         "7",
         "['Columbia Pictures']",
         "['US']"
        ],
        [
         "1",
         "False",
         null,
         "0",
         "['Adventure']",
         null,
         "6124",
         "tt0011436",
         "de",
         "Der Mann ohne Namen",
         null,
         "1.091",
         "/6xUbUCvndklbGVYiljHr34NTxSl.jpg",
         "['DE']",
         "1921-01-01",
         "0",
         "420",
         "[]",
         "Released",
         null,
         "Peter Voss, Thief of Millions",
         "False",
         "0.0",
         "0",
         "[]",
         "[]"
        ],
        [
         "2",
         "False",
         "/uJlc4aNPF3Y8yAqahJTKBwgwPVW.jpg",
         "0",
         "['Drama', 'Romance']",
         null,
         "8773",
         "tt0055747",
         "fr",
         "L'Amour à vingt ans",
         "Love at Twenty unites five directors from five different countries to present their different perspectives on what love really is at the age of 20. The episodes are united with the score of Georges Delerue and still photos of Henri Cartier-Bresson.",
         "3.77",
         "/aup2QCYCsyEeQfpboXy0f4uj8aE.jpg",
         "['DE', 'FR', 'IT', 'JP', 'PL']",
         "1962-06-22",
         "0",
         "110",
         "['it', 'ja', 'pl', 'fr', 'de']",
         "Released",
         "The Intimate Secrets of Young Lovers",
         "Love at Twenty",
         "False",
         "6.7",
         "41",
         "['Ulysse Productions', 'Unitec Films', 'Cinesecolo', 'TOHO', 'Beta Film', 'Film Polski', 'Zespół Filmowy \"Kamera\"']",
         "['', 'NZ', 'IT', 'JP', 'DE', 'PL', '']"
        ],
        [
         "3",
         "False",
         "/hQ4pYsIbP22TMXOUdSfC2mjWrO0.jpg",
         "0",
         "['Drama', 'Comedy', 'Crime']",
         null,
         "2",
         "tt0094675",
         "fi",
         "Ariel",
         "Taisto Kasurinen is a Finnish coal miner whose father has just committed suicide and who is framed for a crime he did not commit. In jail, he starts to dream about leaving the country and starting a new life. He escapes from prison but things don't go as planned...",
         "9.214",
         "/ojDg0PGvs6R9xYFodRct2kdI6wC.jpg",
         "['FI']",
         "1988-10-21",
         "0",
         "73",
         "['fi']",
         "Released",
         null,
         "Ariel",
         "False",
         "7.046",
         "248",
         "['Villealfa Filmproductions']",
         "['FI']"
        ],
        [
         "4",
         "False",
         "/l94l89eMmFKh7na2a1u5q67VgNx.jpg",
         "0",
         "['Drama', 'Comedy', 'Romance']",
         null,
         "3",
         "tt0092149",
         "fi",
         "Varjoja paratiisissa",
         "An episode in the life of Nikander, a garbage man, involving the death of a co-worker, an affair and much more.",
         "6.282",
         "/nj01hspawPof0mJmlgfjuLyJuRN.jpg",
         "['FI']",
         "1986-10-17",
         "0",
         "76",
         "['en']",
         "Released",
         null,
         "Shadows in Paradise",
         "False",
         "7.182",
         "269",
         "['Villealfa Filmproductions']",
         "['FI']"
        ]
       ],
       "shape": {
        "columns": 25,
        "rows": 5
       }
      },
      "text/html": [
       "<div>\n",
       "<style scoped>\n",
       "    .dataframe tbody tr th:only-of-type {\n",
       "        vertical-align: middle;\n",
       "    }\n",
       "\n",
       "    .dataframe tbody tr th {\n",
       "        vertical-align: top;\n",
       "    }\n",
       "\n",
       "    .dataframe thead th {\n",
       "        text-align: right;\n",
       "    }\n",
       "</style>\n",
       "<table border=\"1\" class=\"dataframe\">\n",
       "  <thead>\n",
       "    <tr style=\"text-align: right;\">\n",
       "      <th></th>\n",
       "      <th>adult</th>\n",
       "      <th>backdrop_path</th>\n",
       "      <th>budget</th>\n",
       "      <th>genres</th>\n",
       "      <th>homepage</th>\n",
       "      <th>id</th>\n",
       "      <th>imdb_id</th>\n",
       "      <th>original_language</th>\n",
       "      <th>original_title</th>\n",
       "      <th>overview</th>\n",
       "      <th>...</th>\n",
       "      <th>runtime</th>\n",
       "      <th>spoken_languages</th>\n",
       "      <th>status</th>\n",
       "      <th>tagline</th>\n",
       "      <th>title</th>\n",
       "      <th>video</th>\n",
       "      <th>vote_average</th>\n",
       "      <th>vote_count</th>\n",
       "      <th>production_companies_name</th>\n",
       "      <th>production_companies_country</th>\n",
       "    </tr>\n",
       "  </thead>\n",
       "  <tbody>\n",
       "    <tr>\n",
       "      <th>0</th>\n",
       "      <td>False</td>\n",
       "      <td>/dvQj1GBZAZirz1skEEZyWH2ZqQP.jpg</td>\n",
       "      <td>0</td>\n",
       "      <td>['Comedy']</td>\n",
       "      <td>NaN</td>\n",
       "      <td>3924</td>\n",
       "      <td>tt0029927</td>\n",
       "      <td>en</td>\n",
       "      <td>Blondie</td>\n",
       "      <td>Blondie and Dagwood are about to celebrate the...</td>\n",
       "      <td>...</td>\n",
       "      <td>70</td>\n",
       "      <td>['en']</td>\n",
       "      <td>Released</td>\n",
       "      <td>The favorite comic strip of millions at last o...</td>\n",
       "      <td>Blondie</td>\n",
       "      <td>False</td>\n",
       "      <td>7.214</td>\n",
       "      <td>7</td>\n",
       "      <td>['Columbia Pictures']</td>\n",
       "      <td>['US']</td>\n",
       "    </tr>\n",
       "    <tr>\n",
       "      <th>1</th>\n",
       "      <td>False</td>\n",
       "      <td>NaN</td>\n",
       "      <td>0</td>\n",
       "      <td>['Adventure']</td>\n",
       "      <td>NaN</td>\n",
       "      <td>6124</td>\n",
       "      <td>tt0011436</td>\n",
       "      <td>de</td>\n",
       "      <td>Der Mann ohne Namen</td>\n",
       "      <td>NaN</td>\n",
       "      <td>...</td>\n",
       "      <td>420</td>\n",
       "      <td>[]</td>\n",
       "      <td>Released</td>\n",
       "      <td>NaN</td>\n",
       "      <td>Peter Voss, Thief of Millions</td>\n",
       "      <td>False</td>\n",
       "      <td>0.000</td>\n",
       "      <td>0</td>\n",
       "      <td>[]</td>\n",
       "      <td>[]</td>\n",
       "    </tr>\n",
       "    <tr>\n",
       "      <th>2</th>\n",
       "      <td>False</td>\n",
       "      <td>/uJlc4aNPF3Y8yAqahJTKBwgwPVW.jpg</td>\n",
       "      <td>0</td>\n",
       "      <td>['Drama', 'Romance']</td>\n",
       "      <td>NaN</td>\n",
       "      <td>8773</td>\n",
       "      <td>tt0055747</td>\n",
       "      <td>fr</td>\n",
       "      <td>L'Amour à vingt ans</td>\n",
       "      <td>Love at Twenty unites five directors from five...</td>\n",
       "      <td>...</td>\n",
       "      <td>110</td>\n",
       "      <td>['it', 'ja', 'pl', 'fr', 'de']</td>\n",
       "      <td>Released</td>\n",
       "      <td>The Intimate Secrets of Young Lovers</td>\n",
       "      <td>Love at Twenty</td>\n",
       "      <td>False</td>\n",
       "      <td>6.700</td>\n",
       "      <td>41</td>\n",
       "      <td>['Ulysse Productions', 'Unitec Films', 'Cinese...</td>\n",
       "      <td>['', 'NZ', 'IT', 'JP', 'DE', 'PL', '']</td>\n",
       "    </tr>\n",
       "    <tr>\n",
       "      <th>3</th>\n",
       "      <td>False</td>\n",
       "      <td>/hQ4pYsIbP22TMXOUdSfC2mjWrO0.jpg</td>\n",
       "      <td>0</td>\n",
       "      <td>['Drama', 'Comedy', 'Crime']</td>\n",
       "      <td>NaN</td>\n",
       "      <td>2</td>\n",
       "      <td>tt0094675</td>\n",
       "      <td>fi</td>\n",
       "      <td>Ariel</td>\n",
       "      <td>Taisto Kasurinen is a Finnish coal miner whose...</td>\n",
       "      <td>...</td>\n",
       "      <td>73</td>\n",
       "      <td>['fi']</td>\n",
       "      <td>Released</td>\n",
       "      <td>NaN</td>\n",
       "      <td>Ariel</td>\n",
       "      <td>False</td>\n",
       "      <td>7.046</td>\n",
       "      <td>248</td>\n",
       "      <td>['Villealfa Filmproductions']</td>\n",
       "      <td>['FI']</td>\n",
       "    </tr>\n",
       "    <tr>\n",
       "      <th>4</th>\n",
       "      <td>False</td>\n",
       "      <td>/l94l89eMmFKh7na2a1u5q67VgNx.jpg</td>\n",
       "      <td>0</td>\n",
       "      <td>['Drama', 'Comedy', 'Romance']</td>\n",
       "      <td>NaN</td>\n",
       "      <td>3</td>\n",
       "      <td>tt0092149</td>\n",
       "      <td>fi</td>\n",
       "      <td>Varjoja paratiisissa</td>\n",
       "      <td>An episode in the life of Nikander, a garbage ...</td>\n",
       "      <td>...</td>\n",
       "      <td>76</td>\n",
       "      <td>['en']</td>\n",
       "      <td>Released</td>\n",
       "      <td>NaN</td>\n",
       "      <td>Shadows in Paradise</td>\n",
       "      <td>False</td>\n",
       "      <td>7.182</td>\n",
       "      <td>269</td>\n",
       "      <td>['Villealfa Filmproductions']</td>\n",
       "      <td>['FI']</td>\n",
       "    </tr>\n",
       "  </tbody>\n",
       "</table>\n",
       "<p>5 rows × 25 columns</p>\n",
       "</div>"
      ],
      "text/plain": [
       "   adult                     backdrop_path  budget  \\\n",
       "0  False  /dvQj1GBZAZirz1skEEZyWH2ZqQP.jpg       0   \n",
       "1  False                               NaN       0   \n",
       "2  False  /uJlc4aNPF3Y8yAqahJTKBwgwPVW.jpg       0   \n",
       "3  False  /hQ4pYsIbP22TMXOUdSfC2mjWrO0.jpg       0   \n",
       "4  False  /l94l89eMmFKh7na2a1u5q67VgNx.jpg       0   \n",
       "\n",
       "                           genres homepage    id    imdb_id original_language  \\\n",
       "0                      ['Comedy']      NaN  3924  tt0029927                en   \n",
       "1                   ['Adventure']      NaN  6124  tt0011436                de   \n",
       "2            ['Drama', 'Romance']      NaN  8773  tt0055747                fr   \n",
       "3    ['Drama', 'Comedy', 'Crime']      NaN     2  tt0094675                fi   \n",
       "4  ['Drama', 'Comedy', 'Romance']      NaN     3  tt0092149                fi   \n",
       "\n",
       "         original_title                                           overview  \\\n",
       "0               Blondie  Blondie and Dagwood are about to celebrate the...   \n",
       "1   Der Mann ohne Namen                                                NaN   \n",
       "2   L'Amour à vingt ans  Love at Twenty unites five directors from five...   \n",
       "3                 Ariel  Taisto Kasurinen is a Finnish coal miner whose...   \n",
       "4  Varjoja paratiisissa  An episode in the life of Nikander, a garbage ...   \n",
       "\n",
       "   ...  runtime                spoken_languages    status  \\\n",
       "0  ...       70                          ['en']  Released   \n",
       "1  ...      420                              []  Released   \n",
       "2  ...      110  ['it', 'ja', 'pl', 'fr', 'de']  Released   \n",
       "3  ...       73                          ['fi']  Released   \n",
       "4  ...       76                          ['en']  Released   \n",
       "\n",
       "                                             tagline  \\\n",
       "0  The favorite comic strip of millions at last o...   \n",
       "1                                                NaN   \n",
       "2               The Intimate Secrets of Young Lovers   \n",
       "3                                                NaN   \n",
       "4                                                NaN   \n",
       "\n",
       "                           title  video vote_average vote_count  \\\n",
       "0                        Blondie  False        7.214          7   \n",
       "1  Peter Voss, Thief of Millions  False        0.000          0   \n",
       "2                 Love at Twenty  False        6.700         41   \n",
       "3                          Ariel  False        7.046        248   \n",
       "4            Shadows in Paradise  False        7.182        269   \n",
       "\n",
       "                           production_companies_name  \\\n",
       "0                              ['Columbia Pictures']   \n",
       "1                                                 []   \n",
       "2  ['Ulysse Productions', 'Unitec Films', 'Cinese...   \n",
       "3                      ['Villealfa Filmproductions']   \n",
       "4                      ['Villealfa Filmproductions']   \n",
       "\n",
       "             production_companies_country  \n",
       "0                                  ['US']  \n",
       "1                                      []  \n",
       "2  ['', 'NZ', 'IT', 'JP', 'DE', 'PL', '']  \n",
       "3                                  ['FI']  \n",
       "4                                  ['FI']  \n",
       "\n",
       "[5 rows x 25 columns]"
      ]
     },
     "execution_count": 24,
     "metadata": {},
     "output_type": "execute_result"
    }
   ],
   "source": [
    "df_tmdb = pd.read_csv(output, low_memory=False)\n",
    "\n",
    "df_tmdb.head()"
   ]
  }
 ],
 "metadata": {
  "kernelspec": {
   "display_name": ".venv",
   "language": "python",
   "name": "python3"
  },
  "language_info": {
   "codemirror_mode": {
    "name": "ipython",
    "version": 3
   },
   "file_extension": ".py",
   "mimetype": "text/x-python",
   "name": "python",
   "nbconvert_exporter": "python",
   "pygments_lexer": "ipython3",
   "version": "3.13.2"
  }
 },
 "nbformat": 4,
 "nbformat_minor": 5
}
