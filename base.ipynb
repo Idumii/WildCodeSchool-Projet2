{
 "cells": [
  {
   "cell_type": "markdown",
   "id": "e41f57fe",
   "metadata": {},
   "source": [
    "Exploration Fichiers CSV\n"
   ]
  },
  {
   "cell_type": "code",
   "execution_count": 2,
   "id": "484ee9b7",
   "metadata": {},
   "outputs": [],
   "source": [
    "import pandas as pd\n"
   ]
  },
  {
   "cell_type": "code",
   "execution_count": null,
   "id": "ec3c5aa4",
   "metadata": {},
   "outputs": [],
   "source": [
    "# Liens vers les fichiers de données IMDb\n",
    "# Ces fichiers sont disponibles en téléchargement sur le site IMDb\n",
    "\n",
    "link_title_basics = \"https://datasets.imdbws.com/title.basics.tsv.gz\"\n",
    "link_title_akas = \"https://datasets.imdbws.com/title.akas.tsv.gz\"\n",
    "link_title_crew = \"https://datasets.imdbws.com/title.crew.tsv.gz\"\n",
    "link_title_episode = \"https://datasets.imdbws.com/title.episode.tsv.gz\"\n",
    "link_title_principals = \"https://datasets.imdbws.com/title.principals.tsv.gz\"\n",
    "link_title_ratings = \"https://datasets.imdbws.com/title.ratings.tsv.gz\"\n",
    "link_name_basics = \"https://datasets.imdbws.com/name.basics.tsv.gz\"\n",
    "link_tmdb = \"https://drive.google.com/file/d/1VB5_gl1fnyBDzcIOXZ5vUSbCY68VZN1v/view\""
   ]
  },
  {
   "cell_type": "code",
   "execution_count": null,
   "id": "6160cd9e",
   "metadata": {},
   "outputs": [],
   "source": [
    "df_title_basics = pd.read_csv(link_title_basics, sep=\"\\t\", low_memory=False)\n",
    "\n",
    "df_title_basics.head(5)\n",
    "df_title_basics.info()"
   ]
  }
 ],
 "metadata": {
  "kernelspec": {
   "display_name": ".venv",
   "language": "python",
   "name": "python3"
  },
  "language_info": {
   "codemirror_mode": {
    "name": "ipython",
    "version": 3
   },
   "file_extension": ".py",
   "mimetype": "text/x-python",
   "name": "python",
   "nbconvert_exporter": "python",
   "pygments_lexer": "ipython3",
   "version": "3.13.2"
  }
 },
 "nbformat": 4,
 "nbformat_minor": 5
}
