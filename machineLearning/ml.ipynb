{
 "cells": [
  {
   "cell_type": "code",
   "execution_count": 1,
   "metadata": {},
   "outputs": [],
   "source": [
    "# Import des packages nécessaires\n",
    "# Import bibliothèque de manipulation de dataframe\n",
    "import pandas as pd\n",
    "\n",
    "# Import des bibliothèques de viz\n",
    "import matplotlib.pyplot as plt\n",
    "import seaborn as sns\n",
    "\n",
    "# Import split data\n",
    "from sklearn.model_selection import train_test_split\n",
    "\n",
    "# Import modèles de ML Supervisé Régression\n",
    "from sklearn.linear_model import LinearRegression\n",
    "\n",
    "# Import modèles de ML Supervisé Classification\n",
    "from sklearn.neighbors import KNeighborsClassifier\n",
    "from sklearn.linear_model import LogisticRegression\n",
    "\n",
    "# Import modèle de ML NON Supervisé\n",
    "from sklearn.neighbors import NearestNeighbors\n",
    "\n",
    "# Import des métriques\n",
    "from sklearn.metrics import mean_squared_error, r2_score, accuracy_score, classification_report, confusion_matrix, ConfusionMatrixDisplay\n",
    "\n",
    "# Import outil standardisation de la donnée\n",
    "from sklearn.preprocessing import StandardScaler\n",
    "\n",
    "# Import pipeline\n",
    "from sklearn.pipeline import Pipeline\n",
    "\n",
    "# Gestion des warnings\n",
    "import warnings"
   ]
  },
  {
   "cell_type": "code",
   "execution_count": null,
   "metadata": {},
   "outputs": [],
   "source": [
    "# Adapter le dataframe pour n'avoir ques des valeurs numériques\n"
   ]
  },
  {
   "cell_type": "code",
   "execution_count": null,
   "metadata": {},
   "outputs": [],
   "source": [
    "# Préparation KNN non supervisé\n",
    "# Definir les ensembles de features pour trouvers les voisins similaires\n",
    "# Definir le nombre de voisins\n",
    "# Definir le modèle KNN\n",
    "\n"
   ]
  },
  {
   "cell_type": "code",
   "execution_count": null,
   "metadata": {},
   "outputs": [],
   "source": [
    "# Entrainer le modèle KNN"
   ]
  },
  {
   "cell_type": "code",
   "execution_count": null,
   "metadata": {},
   "outputs": [],
   "source": [
    "# Prédire quelques voisins\n",
    "# Afficher les voisins"
   ]
  }
 ],
 "metadata": {
  "kernelspec": {
   "display_name": ".venv",
   "language": "python",
   "name": "python3"
  },
  "language_info": {
   "codemirror_mode": {
    "name": "ipython",
    "version": 3
   },
   "file_extension": ".py",
   "mimetype": "text/x-python",
   "name": "python",
   "nbconvert_exporter": "python",
   "pygments_lexer": "ipython3",
   "version": "3.13.3"
  }
 },
 "nbformat": 4,
 "nbformat_minor": 5
}
